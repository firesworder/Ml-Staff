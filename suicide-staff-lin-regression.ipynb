{
 "cells": [
  {
   "cell_type": "code",
   "execution_count": 36,
   "metadata": {
    "_cell_guid": "b1076dfc-b9ad-4769-8c92-a6c4dae69d19",
    "_uuid": "8f2839f25d086af736a60e9eeb907d3b93b6e0e5",
    "execution": {
     "iopub.execute_input": "2022-06-30T20:31:37.456642Z",
     "iopub.status.busy": "2022-06-30T20:31:37.456203Z",
     "iopub.status.idle": "2022-06-30T20:31:37.470057Z",
     "shell.execute_reply": "2022-06-30T20:31:37.468966Z",
     "shell.execute_reply.started": "2022-06-30T20:31:37.456600Z"
    }
   },
   "outputs": [
    {
     "name": "stdout",
     "output_type": "stream",
     "text": [
      "../data/suicide/HDI.csv\n",
      "../data/suicide/master.csv\n",
      "../data/suicide/postUSSR_90_00.csv\n",
      "../data/suicide/postUSSR_suicide.csv\n"
     ]
    }
   ],
   "source": [
    "# This Python 3 environment comes with many helpful analytics libraries installed\n",
    "# It is defined by the kaggle/python Docker image: https://github.com/kaggle/docker-python\n",
    "# For example, here's several helpful packages to load\n",
    "\n",
    "import numpy as np # linear algebra\n",
    "import pandas as pd # data processing, CSV file I/O (e.g. pd.read_csv)\n",
    "\n",
    "DIR_PATH = '../data/suicide/'\n",
    "\n",
    "# Input data files are available in the read-only \"../input/\" directory\n",
    "# For example, running this (by clicking run or pressing Shift+Enter) will list all files under the input directory\n",
    "\n",
    "import os\n",
    "# /kaggle/input\n",
    "for dirname, _, filenames in os.walk(DIR_PATH):\n",
    "    for filename in filenames:\n",
    "        print(os.path.join(dirname, filename))\n",
    "\n",
    "# You can write up to 20GB to the current directory (/kaggle/working/) that gets preserved as output when you create a version using \"Save & Run All\" \n",
    "# You can also write temporary files to /kaggle/temp/, but they won't be saved outside of the current session"
   ]
  },
  {
   "cell_type": "code",
   "execution_count": 37,
   "metadata": {
    "execution": {
     "iopub.execute_input": "2022-06-30T20:32:06.812120Z",
     "iopub.status.busy": "2022-06-30T20:32:06.811433Z",
     "iopub.status.idle": "2022-06-30T20:32:06.840619Z",
     "shell.execute_reply": "2022-06-30T20:32:06.839536Z",
     "shell.execute_reply.started": "2022-06-30T20:32:06.812082Z"
    }
   },
   "outputs": [
    {
     "data": {
      "text/html": [
       "<div>\n",
       "<style scoped>\n",
       "    .dataframe tbody tr th:only-of-type {\n",
       "        vertical-align: middle;\n",
       "    }\n",
       "\n",
       "    .dataframe tbody tr th {\n",
       "        vertical-align: top;\n",
       "    }\n",
       "\n",
       "    .dataframe thead th {\n",
       "        text-align: right;\n",
       "    }\n",
       "</style>\n",
       "<table border=\"1\" class=\"dataframe\">\n",
       "  <thead>\n",
       "    <tr style=\"text-align: right;\">\n",
       "      <th></th>\n",
       "      <th>country</th>\n",
       "      <th>year</th>\n",
       "      <th>sex</th>\n",
       "      <th>age</th>\n",
       "      <th>suicides_no</th>\n",
       "      <th>population</th>\n",
       "      <th>country-year</th>\n",
       "      <th>HDI</th>\n",
       "      <th>generation</th>\n",
       "    </tr>\n",
       "  </thead>\n",
       "  <tbody>\n",
       "    <tr>\n",
       "      <th>0</th>\n",
       "      <td>Armenia</td>\n",
       "      <td>1990</td>\n",
       "      <td>male</td>\n",
       "      <td>35-54 years</td>\n",
       "      <td>25</td>\n",
       "      <td>332700</td>\n",
       "      <td>Armenia1990</td>\n",
       "      <td>0.632</td>\n",
       "      <td>Silent</td>\n",
       "    </tr>\n",
       "    <tr>\n",
       "      <th>1</th>\n",
       "      <td>Armenia</td>\n",
       "      <td>1990</td>\n",
       "      <td>male</td>\n",
       "      <td>75+ years</td>\n",
       "      <td>2</td>\n",
       "      <td>26900</td>\n",
       "      <td>Armenia1990</td>\n",
       "      <td>0.632</td>\n",
       "      <td>G.I. Generation</td>\n",
       "    </tr>\n",
       "    <tr>\n",
       "      <th>2</th>\n",
       "      <td>Armenia</td>\n",
       "      <td>1990</td>\n",
       "      <td>male</td>\n",
       "      <td>55-74 years</td>\n",
       "      <td>11</td>\n",
       "      <td>183800</td>\n",
       "      <td>Armenia1990</td>\n",
       "      <td>0.632</td>\n",
       "      <td>G.I. Generation</td>\n",
       "    </tr>\n",
       "    <tr>\n",
       "      <th>3</th>\n",
       "      <td>Armenia</td>\n",
       "      <td>1990</td>\n",
       "      <td>male</td>\n",
       "      <td>25-34 years</td>\n",
       "      <td>16</td>\n",
       "      <td>307100</td>\n",
       "      <td>Armenia1990</td>\n",
       "      <td>0.632</td>\n",
       "      <td>Boomers</td>\n",
       "    </tr>\n",
       "    <tr>\n",
       "      <th>4</th>\n",
       "      <td>Armenia</td>\n",
       "      <td>1990</td>\n",
       "      <td>female</td>\n",
       "      <td>35-54 years</td>\n",
       "      <td>15</td>\n",
       "      <td>358000</td>\n",
       "      <td>Armenia1990</td>\n",
       "      <td>0.632</td>\n",
       "      <td>Silent</td>\n",
       "    </tr>\n",
       "  </tbody>\n",
       "</table>\n",
       "</div>"
      ],
      "text/plain": [
       "   country  year     sex          age  suicides_no  population country-year  \\\n",
       "0  Armenia  1990    male  35-54 years           25      332700  Armenia1990   \n",
       "1  Armenia  1990    male    75+ years            2       26900  Armenia1990   \n",
       "2  Armenia  1990    male  55-74 years           11      183800  Armenia1990   \n",
       "3  Armenia  1990    male  25-34 years           16      307100  Armenia1990   \n",
       "4  Armenia  1990  female  35-54 years           15      358000  Armenia1990   \n",
       "\n",
       "     HDI       generation  \n",
       "0  0.632           Silent  \n",
       "1  0.632  G.I. Generation  \n",
       "2  0.632  G.I. Generation  \n",
       "3  0.632          Boomers  \n",
       "4  0.632           Silent  "
      ]
     },
     "execution_count": 37,
     "metadata": {},
     "output_type": "execute_result"
    }
   ],
   "source": [
    "df = pd.read_csv(os.path.join(DIR_PATH, 'postUSSR_90_00.csv'), index_col=0)\n",
    "df.head()"
   ]
  },
  {
   "cell_type": "code",
   "execution_count": 38,
   "metadata": {
    "execution": {
     "iopub.execute_input": "2022-06-30T20:32:12.597382Z",
     "iopub.status.busy": "2022-06-30T20:32:12.596989Z",
     "iopub.status.idle": "2022-06-30T20:32:12.678427Z",
     "shell.execute_reply": "2022-06-30T20:32:12.677308Z",
     "shell.execute_reply.started": "2022-06-30T20:32:12.597352Z"
    }
   },
   "outputs": [
    {
     "data": {
      "text/html": [
       "<style type=\"text/css\">\n",
       "#T_12725_row0_col0, #T_12725_row1_col1, #T_12725_row2_col2, #T_12725_row3_col3 {\n",
       "  background-color: #b40426;\n",
       "  color: #f1f1f1;\n",
       "}\n",
       "#T_12725_row0_col1, #T_12725_row0_col2, #T_12725_row0_col3, #T_12725_row2_col0 {\n",
       "  background-color: #3b4cc0;\n",
       "  color: #f1f1f1;\n",
       "}\n",
       "#T_12725_row1_col0 {\n",
       "  background-color: #4257c9;\n",
       "  color: #f1f1f1;\n",
       "}\n",
       "#T_12725_row1_col2 {\n",
       "  background-color: #f7b194;\n",
       "  color: #000000;\n",
       "}\n",
       "#T_12725_row1_col3 {\n",
       "  background-color: #d8dce2;\n",
       "  color: #000000;\n",
       "}\n",
       "#T_12725_row2_col1 {\n",
       "  background-color: #f7b497;\n",
       "  color: #000000;\n",
       "}\n",
       "#T_12725_row2_col3 {\n",
       "  background-color: #f7a98b;\n",
       "  color: #000000;\n",
       "}\n",
       "#T_12725_row3_col0 {\n",
       "  background-color: #485fd1;\n",
       "  color: #f1f1f1;\n",
       "}\n",
       "#T_12725_row3_col1 {\n",
       "  background-color: #dbdcde;\n",
       "  color: #000000;\n",
       "}\n",
       "#T_12725_row3_col2 {\n",
       "  background-color: #f6a385;\n",
       "  color: #000000;\n",
       "}\n",
       "</style>\n",
       "<table id=\"T_12725\">\n",
       "  <thead>\n",
       "    <tr>\n",
       "      <th class=\"blank level0\" >&nbsp;</th>\n",
       "      <th id=\"T_12725_level0_col0\" class=\"col_heading level0 col0\" >year</th>\n",
       "      <th id=\"T_12725_level0_col1\" class=\"col_heading level0 col1\" >suicides_no</th>\n",
       "      <th id=\"T_12725_level0_col2\" class=\"col_heading level0 col2\" >population</th>\n",
       "      <th id=\"T_12725_level0_col3\" class=\"col_heading level0 col3\" >HDI</th>\n",
       "    </tr>\n",
       "  </thead>\n",
       "  <tbody>\n",
       "    <tr>\n",
       "      <th id=\"T_12725_level0_row0\" class=\"row_heading level0 row0\" >year</th>\n",
       "      <td id=\"T_12725_row0_col0\" class=\"data row0 col0\" >1.000000</td>\n",
       "      <td id=\"T_12725_row0_col1\" class=\"data row0 col1\" >0.028082</td>\n",
       "      <td id=\"T_12725_row0_col2\" class=\"data row0 col2\" >0.004454</td>\n",
       "      <td id=\"T_12725_row0_col3\" class=\"data row0 col3\" >0.050529</td>\n",
       "    </tr>\n",
       "    <tr>\n",
       "      <th id=\"T_12725_level0_row1\" class=\"row_heading level0 row1\" >suicides_no</th>\n",
       "      <td id=\"T_12725_row1_col0\" class=\"data row1 col0\" >0.028082</td>\n",
       "      <td id=\"T_12725_row1_col1\" class=\"data row1 col1\" >1.000000</td>\n",
       "      <td id=\"T_12725_row1_col2\" class=\"data row1 col2\" >0.686643</td>\n",
       "      <td id=\"T_12725_row1_col3\" class=\"data row1 col3\" >0.509122</td>\n",
       "    </tr>\n",
       "    <tr>\n",
       "      <th id=\"T_12725_level0_row2\" class=\"row_heading level0 row2\" >population</th>\n",
       "      <td id=\"T_12725_row2_col0\" class=\"data row2 col0\" >0.004454</td>\n",
       "      <td id=\"T_12725_row2_col1\" class=\"data row2 col1\" >0.686643</td>\n",
       "      <td id=\"T_12725_row2_col2\" class=\"data row2 col2\" >1.000000</td>\n",
       "      <td id=\"T_12725_row2_col3\" class=\"data row2 col3\" >0.724138</td>\n",
       "    </tr>\n",
       "    <tr>\n",
       "      <th id=\"T_12725_level0_row3\" class=\"row_heading level0 row3\" >HDI</th>\n",
       "      <td id=\"T_12725_row3_col0\" class=\"data row3 col0\" >0.050529</td>\n",
       "      <td id=\"T_12725_row3_col1\" class=\"data row3 col1\" >0.509122</td>\n",
       "      <td id=\"T_12725_row3_col2\" class=\"data row3 col2\" >0.724138</td>\n",
       "      <td id=\"T_12725_row3_col3\" class=\"data row3 col3\" >1.000000</td>\n",
       "    </tr>\n",
       "  </tbody>\n",
       "</table>\n"
      ],
      "text/plain": [
       "<pandas.io.formats.style.Styler at 0x269b4f395e0>"
      ]
     },
     "execution_count": 38,
     "metadata": {},
     "output_type": "execute_result"
    }
   ],
   "source": [
    "corr = df.corr()\n",
    "corr.style.background_gradient(cmap='coolwarm')"
   ]
  },
  {
   "cell_type": "markdown",
   "metadata": {},
   "source": [
    "Датасет уже после обработки в здесь - https://www.kaggle.com/firesworder/suicide-staff-eda"
   ]
  },
  {
   "cell_type": "markdown",
   "metadata": {},
   "source": [
    "# Общие функции\n",
    "Мб кстати пайплайн можно настроить. Я что то подобное делал уже"
   ]
  },
  {
   "cell_type": "code",
   "execution_count": 70,
   "metadata": {
    "execution": {
     "iopub.execute_input": "2022-06-30T20:35:57.071026Z",
     "iopub.status.busy": "2022-06-30T20:35:57.070642Z",
     "iopub.status.idle": "2022-06-30T20:35:57.135783Z",
     "shell.execute_reply": "2022-06-30T20:35:57.134923Z",
     "shell.execute_reply.started": "2022-06-30T20:35:57.070997Z"
    }
   },
   "outputs": [
    {
     "name": "stdout",
     "output_type": "stream",
     "text": [
      "(989, 2) (330, 2) (989,) (330,)\n"
     ]
    }
   ],
   "source": [
    "from sklearn.model_selection import train_test_split\n",
    "\n",
    "def get_prepared_dataset(base_df, columns, target):\n",
    "    base_df = base_df.copy()\n",
    "    # выделение таргета и X\n",
    "    y = base_df[target]\n",
    "    X = base_df.loc[:, columns]\n",
    "    \n",
    "    return train_test_split(X, y, random_state=0)\n",
    "\n",
    "train_X, val_X, train_y, val_y = get_prepared_dataset(df, ['HDI', 'country'], 'suicides_no')\n",
    "print(train_X.shape, val_X.shape, train_y.shape, val_y.shape)"
   ]
  },
  {
   "cell_type": "code",
   "execution_count": 104,
   "metadata": {},
   "outputs": [
    {
     "data": {
      "text/plain": [
       "['country']"
      ]
     },
     "execution_count": 104,
     "metadata": {},
     "output_type": "execute_result"
    }
   ],
   "source": [
    "def get_object_cols(base_df):\n",
    "    object_cols = base_df.dtypes == 'object'\n",
    "    object_cols = list(object_cols[object_cols].index)\n",
    "    return object_cols\n",
    "\n",
    "columns = get_object_cols(df.loc[:, ['HDI', 'country']])\n",
    "columns"
   ]
  },
  {
   "cell_type": "code",
   "execution_count": 116,
   "metadata": {},
   "outputs": [
    {
     "data": {
      "text/plain": [
       "OneHotEncoder(handle_unknown='ignore', sparse=False)"
      ]
     },
     "execution_count": 116,
     "metadata": {},
     "output_type": "execute_result"
    }
   ],
   "source": [
    "from sklearn.preprocessing import OneHotEncoder\n",
    "\n",
    "def get_OH_encoder(base_df, object_cols):\n",
    "    OH_encoder = OneHotEncoder(handle_unknown='ignore', sparse=False)\n",
    "    OH_encoder.fit(df[object_cols])\n",
    "    return OH_encoder\n",
    "\n",
    "sub_df = df.loc[:, ['HDI', 'country']]\n",
    "object_columns = get_object_cols(sub_df)\n",
    "OH_encoder = get_OH_encoder(sub_df, object_columns)\n",
    "OH_encoder"
   ]
  },
  {
   "cell_type": "code",
   "execution_count": 113,
   "metadata": {},
   "outputs": [
    {
     "name": "stdout",
     "output_type": "stream",
     "text": [
      "(989, 11) (330, 11)\n"
     ]
    }
   ],
   "source": [
    "def get_OH_encodings(OH_encoder, base_df, object_cols):\n",
    "    OH_cols = pd.DataFrame(OH_encoder.transform(base_df[object_cols]))\n",
    "    OH_cols.index = base_df.index # восстанавливаю индексы после энкодинга\n",
    "    OH_cols.columns = OH_encoder.get_feature_names_out() # восстанавливаю наименования\n",
    "    df_num_cols = base_df.drop(object_cols, axis=1)\n",
    "    encoded_df = pd.concat([df_num_cols, OH_cols], axis=1)\n",
    "    return encoded_df\n",
    "\n",
    "sub_df = df.loc[:, ['HDI', 'country']]\n",
    "object_cols = get_object_cols(sub_df)\n",
    "OH_encoder = get_OH_encoder(sub_df, object_columns)\n",
    "train_X, val_X, _, _ = get_prepared_dataset(df, ['HDI', 'country'], 'suicides_no')\n",
    "OH_X_train, OH_X_valid = get_OH_encodings(OH_encoder, train_X, object_cols), get_OH_encodings(OH_encoder, val_X, object_cols)\n",
    "print(OH_X_train.shape, OH_X_valid.shape)"
   ]
  },
  {
   "cell_type": "code",
   "execution_count": 75,
   "metadata": {
    "execution": {
     "iopub.execute_input": "2022-06-30T20:36:12.884590Z",
     "iopub.status.busy": "2022-06-30T20:36:12.884014Z",
     "iopub.status.idle": "2022-06-30T20:36:12.891982Z",
     "shell.execute_reply": "2022-06-30T20:36:12.890800Z",
     "shell.execute_reply.started": "2022-06-30T20:36:12.884543Z"
    }
   },
   "outputs": [],
   "source": [
    "from sklearn.metrics import mean_absolute_error\n",
    "\n",
    "# Для оценки МАЕ построенной лин. модели(с возможностью каста полей таргета, перед оценкой)\n",
    "# TODO: заменить train_X ит.п. на словарь\n",
    "def get_MAE_score(model, train_X, val_X, train_y, val_y, mae_supp_func=None):\n",
    "    pred_train = model.predict(train_X)\n",
    "    pred_val = model.predict(val_X)\n",
    "    \n",
    "    if mae_supp_func:\n",
    "        train_y, val_y = mae_supp_func(train_y), mae_supp_func(val_y)\n",
    "        pred_train, pred_val = mae_supp_func(pred_train), mae_supp_func(pred_val)\n",
    "        \n",
    "    train_MAE = mean_absolute_error(train_y, pred_train)\n",
    "    val_MAE = mean_absolute_error(val_y, pred_val)\n",
    "    return train_MAE, val_MAE"
   ]
  },
  {
   "cell_type": "code",
   "execution_count": 128,
   "metadata": {
    "execution": {
     "iopub.execute_input": "2022-06-30T20:50:26.985046Z",
     "iopub.status.busy": "2022-06-30T20:50:26.984672Z",
     "iopub.status.idle": "2022-06-30T20:50:27.022800Z",
     "shell.execute_reply": "2022-06-30T20:50:27.021740Z",
     "shell.execute_reply.started": "2022-06-30T20:50:26.985018Z"
    }
   },
   "outputs": [
    {
     "data": {
      "text/plain": [
       "(LinearRegression(),\n",
       " OneHotEncoder(handle_unknown='ignore', sparse=False),\n",
       " {'train': 628.9398382204247, 'valid': 464.24545454545455})"
      ]
     },
     "execution_count": 128,
     "metadata": {},
     "output_type": "execute_result"
    }
   ],
   "source": [
    "from sklearn.linear_model import LinearRegression\n",
    "\n",
    "def get_model(base_df, columns, target, mae_supp_func=None):\n",
    "    train_X, val_X, train_y, val_y = get_prepared_dataset(base_df, columns, target)\n",
    "    \n",
    "    object_cols = get_object_cols(train_X)\n",
    "    OH_encoder = None\n",
    "    if object_cols:\n",
    "        OH_encoder = get_OH_encoder(base_df.loc[:, columns], object_cols)\n",
    "        OH_X_train = get_OH_encodings(OH_encoder, train_X, object_cols)\n",
    "        OH_X_valid = get_OH_encodings(OH_encoder, val_X, object_cols)\n",
    "    else:\n",
    "        OH_X_train, OH_X_valid = train_X, val_X\n",
    "       \n",
    "    model = LinearRegression() \n",
    "    model.fit(OH_X_train, train_y)\n",
    "    \n",
    "    train_MAE, val_MAE = get_MAE_score(model, OH_X_train, OH_X_valid, train_y, val_y, mae_supp_func)\n",
    "    \n",
    "    return model, OH_encoder, {'train': train_MAE, 'valid': val_MAE}\n",
    "\n",
    "\n",
    "get_model(df, ['HDI', 'country'], 'suicides_no')"
   ]
  },
  {
   "cell_type": "code",
   "execution_count": 130,
   "metadata": {
    "execution": {
     "iopub.execute_input": "2022-06-30T20:51:09.712856Z",
     "iopub.status.busy": "2022-06-30T20:51:09.712461Z",
     "iopub.status.idle": "2022-06-30T20:51:26.114109Z",
     "shell.execute_reply": "2022-06-30T20:51:26.112591Z",
     "shell.execute_reply.started": "2022-06-30T20:51:09.712827Z"
    },
    "pycharm": {
     "name": "#%%\n"
    }
   },
   "outputs": [
    {
     "data": {
      "text/html": [
       "<div>\n",
       "<style scoped>\n",
       "    .dataframe tbody tr th:only-of-type {\n",
       "        vertical-align: middle;\n",
       "    }\n",
       "\n",
       "    .dataframe tbody tr th {\n",
       "        vertical-align: top;\n",
       "    }\n",
       "\n",
       "    .dataframe thead th {\n",
       "        text-align: right;\n",
       "    }\n",
       "</style>\n",
       "<table border=\"1\" class=\"dataframe\">\n",
       "  <thead>\n",
       "    <tr style=\"text-align: right;\">\n",
       "      <th></th>\n",
       "      <th>columns_name</th>\n",
       "      <th>train_MAE</th>\n",
       "      <th>val_MAE</th>\n",
       "    </tr>\n",
       "  </thead>\n",
       "  <tbody>\n",
       "    <tr>\n",
       "      <th>0</th>\n",
       "      <td>country</td>\n",
       "      <td>629.836198</td>\n",
       "      <td>464.403030</td>\n",
       "    </tr>\n",
       "    <tr>\n",
       "      <th>1</th>\n",
       "      <td>year</td>\n",
       "      <td>961.617972</td>\n",
       "      <td>875.040740</td>\n",
       "    </tr>\n",
       "    <tr>\n",
       "      <th>2</th>\n",
       "      <td>sex</td>\n",
       "      <td>938.162080</td>\n",
       "      <td>832.548248</td>\n",
       "    </tr>\n",
       "    <tr>\n",
       "      <th>3</th>\n",
       "      <td>age</td>\n",
       "      <td>918.685541</td>\n",
       "      <td>849.287879</td>\n",
       "    </tr>\n",
       "    <tr>\n",
       "      <th>4</th>\n",
       "      <td>population</td>\n",
       "      <td>668.941737</td>\n",
       "      <td>594.806073</td>\n",
       "    </tr>\n",
       "    <tr>\n",
       "      <th>...</th>\n",
       "      <td>...</td>\n",
       "      <td>...</td>\n",
       "      <td>...</td>\n",
       "    </tr>\n",
       "    <tr>\n",
       "      <th>250</th>\n",
       "      <td>country|year|sex|population|country-year|HDI|g...</td>\n",
       "      <td>775.889389</td>\n",
       "      <td>843.859426</td>\n",
       "    </tr>\n",
       "    <tr>\n",
       "      <th>251</th>\n",
       "      <td>country|year|age|population|country-year|HDI|g...</td>\n",
       "      <td>710.338326</td>\n",
       "      <td>772.770887</td>\n",
       "    </tr>\n",
       "    <tr>\n",
       "      <th>252</th>\n",
       "      <td>country|sex|age|population|country-year|HDI|ge...</td>\n",
       "      <td>775.661885</td>\n",
       "      <td>852.339984</td>\n",
       "    </tr>\n",
       "    <tr>\n",
       "      <th>253</th>\n",
       "      <td>year|sex|age|population|country-year|HDI|gener...</td>\n",
       "      <td>775.661885</td>\n",
       "      <td>852.339985</td>\n",
       "    </tr>\n",
       "    <tr>\n",
       "      <th>254</th>\n",
       "      <td>country|year|sex|age|population|country-year|H...</td>\n",
       "      <td>775.620837</td>\n",
       "      <td>852.135056</td>\n",
       "    </tr>\n",
       "  </tbody>\n",
       "</table>\n",
       "<p>255 rows × 3 columns</p>\n",
       "</div>"
      ],
      "text/plain": [
       "                                          columns_name   train_MAE     val_MAE\n",
       "0                                              country  629.836198  464.403030\n",
       "1                                                 year  961.617972  875.040740\n",
       "2                                                  sex  938.162080  832.548248\n",
       "3                                                  age  918.685541  849.287879\n",
       "4                                           population  668.941737  594.806073\n",
       "..                                                 ...         ...         ...\n",
       "250  country|year|sex|population|country-year|HDI|g...  775.889389  843.859426\n",
       "251  country|year|age|population|country-year|HDI|g...  710.338326  772.770887\n",
       "252  country|sex|age|population|country-year|HDI|ge...  775.661885  852.339984\n",
       "253  year|sex|age|population|country-year|HDI|gener...  775.661885  852.339985\n",
       "254  country|year|sex|age|population|country-year|H...  775.620837  852.135056\n",
       "\n",
       "[255 rows x 3 columns]"
      ]
     },
     "execution_count": 130,
     "metadata": {},
     "output_type": "execute_result"
    }
   ],
   "source": [
    "def get_column_comb_rating(base_df, target, mae_supp_func=None):\n",
    "    # получение комбинаций(сочетаний без повторений) столбцов\n",
    "    import itertools\n",
    "\n",
    "    columns = np.array(base_df.columns)\n",
    "    columns = columns[columns != target]\n",
    "\n",
    "    columns_combinations = []\n",
    "    for i in range(1, len(columns) + 1):\n",
    "        columns_combinations += itertools.combinations(columns, i)\n",
    "    \n",
    "    # оценка каждого из сочетаний столбцов, по МАЕ\n",
    "    df_column_option = []\n",
    "    for option in columns_combinations:\n",
    "        column_name = '|'.join(option)\n",
    "        _, _, MAE = get_model(base_df, option, target, mae_supp_func)\n",
    "        df_column_option.append([column_name, MAE['train'], MAE['valid']])\n",
    "\n",
    "    df_column_option = pd.DataFrame(\n",
    "        df_column_option, columns=['columns_name', 'train_MAE', 'val_MAE'])\n",
    "    return df_column_option\n",
    "\n",
    "get_column_comb_rating(df, 'suicides_no')"
   ]
  },
  {
   "cell_type": "code",
   "execution_count": 151,
   "metadata": {
    "execution": {
     "iopub.execute_input": "2022-06-30T20:56:51.677419Z",
     "iopub.status.busy": "2022-06-30T20:56:51.677058Z",
     "iopub.status.idle": "2022-06-30T20:56:51.808030Z",
     "shell.execute_reply": "2022-06-30T20:56:51.806640Z",
     "shell.execute_reply.started": "2022-06-30T20:56:51.677391Z"
    }
   },
   "outputs": [
    {
     "data": {
      "text/html": [
       "<div>\n",
       "<style scoped>\n",
       "    .dataframe tbody tr th:only-of-type {\n",
       "        vertical-align: middle;\n",
       "    }\n",
       "\n",
       "    .dataframe tbody tr th {\n",
       "        vertical-align: top;\n",
       "    }\n",
       "\n",
       "    .dataframe thead th {\n",
       "        text-align: right;\n",
       "    }\n",
       "</style>\n",
       "<table border=\"1\" class=\"dataframe\">\n",
       "  <thead>\n",
       "    <tr style=\"text-align: right;\">\n",
       "      <th></th>\n",
       "      <th>country</th>\n",
       "      <th>year</th>\n",
       "      <th>sex</th>\n",
       "      <th>age</th>\n",
       "      <th>suicides_no</th>\n",
       "      <th>population</th>\n",
       "      <th>country-year</th>\n",
       "      <th>HDI</th>\n",
       "      <th>generation</th>\n",
       "      <th>preds</th>\n",
       "    </tr>\n",
       "  </thead>\n",
       "  <tbody>\n",
       "    <tr>\n",
       "      <th>677</th>\n",
       "      <td>Kyrgyzstan</td>\n",
       "      <td>1992</td>\n",
       "      <td>female</td>\n",
       "      <td>75+ years</td>\n",
       "      <td>7</td>\n",
       "      <td>56800</td>\n",
       "      <td>Kyrgyzstan1992</td>\n",
       "      <td>0.562</td>\n",
       "      <td>G.I. Generation</td>\n",
       "      <td>55.5</td>\n",
       "    </tr>\n",
       "    <tr>\n",
       "      <th>77</th>\n",
       "      <td>Armenia</td>\n",
       "      <td>1996</td>\n",
       "      <td>female</td>\n",
       "      <td>35-54 years</td>\n",
       "      <td>7</td>\n",
       "      <td>471200</td>\n",
       "      <td>Armenia1996</td>\n",
       "      <td>0.648</td>\n",
       "      <td>Boomers</td>\n",
       "      <td>-2.0</td>\n",
       "    </tr>\n",
       "    <tr>\n",
       "      <th>524</th>\n",
       "      <td>Kazakhstan</td>\n",
       "      <td>1990</td>\n",
       "      <td>female</td>\n",
       "      <td>35-54 years</td>\n",
       "      <td>225</td>\n",
       "      <td>1845400</td>\n",
       "      <td>Kazakhstan1990</td>\n",
       "      <td>0.690</td>\n",
       "      <td>Silent</td>\n",
       "      <td>361.0</td>\n",
       "    </tr>\n",
       "    <tr>\n",
       "      <th>322</th>\n",
       "      <td>Belarus</td>\n",
       "      <td>1994</td>\n",
       "      <td>male</td>\n",
       "      <td>5-14 years</td>\n",
       "      <td>16</td>\n",
       "      <td>833400</td>\n",
       "      <td>Belarus1994</td>\n",
       "      <td>0.683</td>\n",
       "      <td>Millenials</td>\n",
       "      <td>277.5</td>\n",
       "    </tr>\n",
       "    <tr>\n",
       "      <th>152</th>\n",
       "      <td>Azerbaijan</td>\n",
       "      <td>1991</td>\n",
       "      <td>female</td>\n",
       "      <td>75+ years</td>\n",
       "      <td>1</td>\n",
       "      <td>99300</td>\n",
       "      <td>Azerbaijan1991</td>\n",
       "      <td>0.609</td>\n",
       "      <td>G.I. Generation</td>\n",
       "      <td>14.0</td>\n",
       "    </tr>\n",
       "    <tr>\n",
       "      <th>139</th>\n",
       "      <td>Azerbaijan</td>\n",
       "      <td>1990</td>\n",
       "      <td>female</td>\n",
       "      <td>25-34 years</td>\n",
       "      <td>7</td>\n",
       "      <td>677800</td>\n",
       "      <td>Azerbaijan1990</td>\n",
       "      <td>0.609</td>\n",
       "      <td>Boomers</td>\n",
       "      <td>14.0</td>\n",
       "    </tr>\n",
       "    <tr>\n",
       "      <th>1254</th>\n",
       "      <td>Uzbekistan</td>\n",
       "      <td>1996</td>\n",
       "      <td>female</td>\n",
       "      <td>55-74 years</td>\n",
       "      <td>55</td>\n",
       "      <td>959900</td>\n",
       "      <td>Uzbekistan1996</td>\n",
       "      <td>0.594</td>\n",
       "      <td>Silent</td>\n",
       "      <td>125.0</td>\n",
       "    </tr>\n",
       "    <tr>\n",
       "      <th>307</th>\n",
       "      <td>Belarus</td>\n",
       "      <td>1993</td>\n",
       "      <td>female</td>\n",
       "      <td>35-54 years</td>\n",
       "      <td>164</td>\n",
       "      <td>1323600</td>\n",
       "      <td>Belarus1993</td>\n",
       "      <td>0.683</td>\n",
       "      <td>Boomers</td>\n",
       "      <td>277.5</td>\n",
       "    </tr>\n",
       "    <tr>\n",
       "      <th>930</th>\n",
       "      <td>Turkmenistan</td>\n",
       "      <td>1991</td>\n",
       "      <td>female</td>\n",
       "      <td>15-24 years</td>\n",
       "      <td>31</td>\n",
       "      <td>358300</td>\n",
       "      <td>Turkmenistan1991</td>\n",
       "      <td>0.666</td>\n",
       "      <td>Generation X</td>\n",
       "      <td>26.5</td>\n",
       "    </tr>\n",
       "    <tr>\n",
       "      <th>716</th>\n",
       "      <td>Kyrgyzstan</td>\n",
       "      <td>1995</td>\n",
       "      <td>female</td>\n",
       "      <td>35-54 years</td>\n",
       "      <td>35</td>\n",
       "      <td>394200</td>\n",
       "      <td>Kyrgyzstan1995</td>\n",
       "      <td>0.562</td>\n",
       "      <td>Boomers</td>\n",
       "      <td>55.5</td>\n",
       "    </tr>\n",
       "  </tbody>\n",
       "</table>\n",
       "</div>"
      ],
      "text/plain": [
       "           country  year     sex          age  suicides_no  population  \\\n",
       "677     Kyrgyzstan  1992  female    75+ years            7       56800   \n",
       "77         Armenia  1996  female  35-54 years            7      471200   \n",
       "524     Kazakhstan  1990  female  35-54 years          225     1845400   \n",
       "322        Belarus  1994    male   5-14 years           16      833400   \n",
       "152     Azerbaijan  1991  female    75+ years            1       99300   \n",
       "139     Azerbaijan  1990  female  25-34 years            7      677800   \n",
       "1254    Uzbekistan  1996  female  55-74 years           55      959900   \n",
       "307        Belarus  1993  female  35-54 years          164     1323600   \n",
       "930   Turkmenistan  1991  female  15-24 years           31      358300   \n",
       "716     Kyrgyzstan  1995  female  35-54 years           35      394200   \n",
       "\n",
       "          country-year    HDI       generation  preds  \n",
       "677     Kyrgyzstan1992  0.562  G.I. Generation   55.5  \n",
       "77         Armenia1996  0.648          Boomers   -2.0  \n",
       "524     Kazakhstan1990  0.690           Silent  361.0  \n",
       "322        Belarus1994  0.683       Millenials  277.5  \n",
       "152     Azerbaijan1991  0.609  G.I. Generation   14.0  \n",
       "139     Azerbaijan1990  0.609          Boomers   14.0  \n",
       "1254    Uzbekistan1996  0.594           Silent  125.0  \n",
       "307        Belarus1993  0.683          Boomers  277.5  \n",
       "930   Turkmenistan1991  0.666     Generation X   26.5  \n",
       "716     Kyrgyzstan1995  0.562          Boomers   55.5  "
      ]
     },
     "execution_count": 151,
     "metadata": {},
     "output_type": "execute_result"
    }
   ],
   "source": [
    "def get_predictions_df(model, model_cols, OH_encoder,  req_df):\n",
    "    req_X = req_df.loc[:, model_cols]\n",
    "    if OH_encoder:\n",
    "        object_cols = get_object_cols(req_X)\n",
    "        req_X = get_OH_encodings(OH_encoder, req_X, object_cols)\n",
    "        \n",
    "    preds = model.predict(req_X)\n",
    "    preds = pd.Series(preds, index=req_df.index, name='predictions')\n",
    "    req_df['preds'] = preds\n",
    "    return req_df\n",
    "\n",
    "model_cols, target = ['country', 'HDI'], 'suicides_no'\n",
    "req_df = df.sample(n=10)\n",
    "model, OH_encoder, _ = get_model(df, model_cols, target)\n",
    "result_df = get_predictions_df(model, model_cols, OH_encoder, req_df)\n",
    "result_df"
   ]
  },
  {
   "cell_type": "markdown",
   "metadata": {
    "pycharm": {
     "name": "#%% md\n"
    }
   },
   "source": [
    "# Модель лин. регрессии\n",
    "## Прямой проход"
   ]
  },
  {
   "cell_type": "code",
   "execution_count": 154,
   "metadata": {
    "execution": {
     "iopub.execute_input": "2022-06-30T20:57:11.847445Z",
     "iopub.status.busy": "2022-06-30T20:57:11.847047Z",
     "iopub.status.idle": "2022-06-30T20:57:27.030671Z",
     "shell.execute_reply": "2022-06-30T20:57:27.029513Z",
     "shell.execute_reply.started": "2022-06-30T20:57:11.847413Z"
    },
    "pycharm": {
     "name": "#%%\n"
    }
   },
   "outputs": [
    {
     "data": {
      "text/html": [
       "<div>\n",
       "<style scoped>\n",
       "    .dataframe tbody tr th:only-of-type {\n",
       "        vertical-align: middle;\n",
       "    }\n",
       "\n",
       "    .dataframe tbody tr th {\n",
       "        vertical-align: top;\n",
       "    }\n",
       "\n",
       "    .dataframe thead th {\n",
       "        text-align: right;\n",
       "    }\n",
       "</style>\n",
       "<table border=\"1\" class=\"dataframe\">\n",
       "  <thead>\n",
       "    <tr style=\"text-align: right;\">\n",
       "      <th></th>\n",
       "      <th>columns_name</th>\n",
       "      <th>train_MAE</th>\n",
       "      <th>val_MAE</th>\n",
       "    </tr>\n",
       "  </thead>\n",
       "  <tbody>\n",
       "    <tr>\n",
       "      <th>0</th>\n",
       "      <td>country</td>\n",
       "      <td>629.836198</td>\n",
       "      <td>464.403030</td>\n",
       "    </tr>\n",
       "    <tr>\n",
       "      <th>1</th>\n",
       "      <td>year</td>\n",
       "      <td>961.617972</td>\n",
       "      <td>875.040740</td>\n",
       "    </tr>\n",
       "    <tr>\n",
       "      <th>2</th>\n",
       "      <td>sex</td>\n",
       "      <td>938.162080</td>\n",
       "      <td>832.548248</td>\n",
       "    </tr>\n",
       "    <tr>\n",
       "      <th>3</th>\n",
       "      <td>age</td>\n",
       "      <td>918.685541</td>\n",
       "      <td>849.287879</td>\n",
       "    </tr>\n",
       "    <tr>\n",
       "      <th>4</th>\n",
       "      <td>population</td>\n",
       "      <td>668.941737</td>\n",
       "      <td>594.806073</td>\n",
       "    </tr>\n",
       "  </tbody>\n",
       "</table>\n",
       "</div>"
      ],
      "text/plain": [
       "  columns_name   train_MAE     val_MAE\n",
       "0      country  629.836198  464.403030\n",
       "1         year  961.617972  875.040740\n",
       "2          sex  938.162080  832.548248\n",
       "3          age  918.685541  849.287879\n",
       "4   population  668.941737  594.806073"
      ]
     },
     "execution_count": 154,
     "metadata": {},
     "output_type": "execute_result"
    }
   ],
   "source": [
    "df_column_option = get_column_comb_rating(df, 'suicides_no')\n",
    "df_column_option.head()"
   ]
  },
  {
   "cell_type": "code",
   "execution_count": 155,
   "metadata": {
    "execution": {
     "iopub.execute_input": "2022-06-30T21:26:52.801682Z",
     "iopub.status.busy": "2022-06-30T21:26:52.801086Z",
     "iopub.status.idle": "2022-06-30T21:26:52.817385Z",
     "shell.execute_reply": "2022-06-30T21:26:52.816307Z",
     "shell.execute_reply.started": "2022-06-30T21:26:52.801632Z"
    }
   },
   "outputs": [
    {
     "data": {
      "text/html": [
       "<div>\n",
       "<style scoped>\n",
       "    .dataframe tbody tr th:only-of-type {\n",
       "        vertical-align: middle;\n",
       "    }\n",
       "\n",
       "    .dataframe tbody tr th {\n",
       "        vertical-align: top;\n",
       "    }\n",
       "\n",
       "    .dataframe thead th {\n",
       "        text-align: right;\n",
       "    }\n",
       "</style>\n",
       "<table border=\"1\" class=\"dataframe\">\n",
       "  <thead>\n",
       "    <tr style=\"text-align: right;\">\n",
       "      <th></th>\n",
       "      <th>columns_name</th>\n",
       "      <th>train_MAE</th>\n",
       "      <th>val_MAE</th>\n",
       "    </tr>\n",
       "  </thead>\n",
       "  <tbody>\n",
       "    <tr>\n",
       "      <th>69</th>\n",
       "      <td>year|country-year|HDI</td>\n",
       "      <td>613.120324</td>\n",
       "      <td>493.366667</td>\n",
       "    </tr>\n",
       "    <tr>\n",
       "      <th>18</th>\n",
       "      <td>year|country-year</td>\n",
       "      <td>613.419816</td>\n",
       "      <td>493.617967</td>\n",
       "    </tr>\n",
       "    <tr>\n",
       "      <th>39</th>\n",
       "      <td>country|year|country-year</td>\n",
       "      <td>613.515672</td>\n",
       "      <td>493.648485</td>\n",
       "    </tr>\n",
       "    <tr>\n",
       "      <th>13</th>\n",
       "      <td>country|HDI</td>\n",
       "      <td>628.939838</td>\n",
       "      <td>464.245455</td>\n",
       "    </tr>\n",
       "    <tr>\n",
       "      <th>0</th>\n",
       "      <td>country</td>\n",
       "      <td>629.836198</td>\n",
       "      <td>464.403030</td>\n",
       "    </tr>\n",
       "  </tbody>\n",
       "</table>\n",
       "</div>"
      ],
      "text/plain": [
       "                 columns_name   train_MAE     val_MAE\n",
       "69      year|country-year|HDI  613.120324  493.366667\n",
       "18          year|country-year  613.419816  493.617967\n",
       "39  country|year|country-year  613.515672  493.648485\n",
       "13                country|HDI  628.939838  464.245455\n",
       "0                     country  629.836198  464.403030"
      ]
     },
     "execution_count": 155,
     "metadata": {},
     "output_type": "execute_result"
    }
   ],
   "source": [
    "df_column_option.sort_values(by=['train_MAE', 'val_MAE']).head(5)"
   ]
  },
  {
   "cell_type": "markdown",
   "metadata": {},
   "source": [
    "Лучший результат показали по величине ошибки показали country и country-year, а также комбинации с оными.\n",
    "\n",
    "В целом, ошибка вышла очень большая и это немного странно, учитывая \"отделенность\" столбцов страны(one-hot)."
   ]
  },
  {
   "cell_type": "code",
   "execution_count": 165,
   "metadata": {
    "execution": {
     "iopub.execute_input": "2022-06-30T21:26:42.881224Z",
     "iopub.status.busy": "2022-06-30T21:26:42.880865Z",
     "iopub.status.idle": "2022-06-30T21:26:42.989106Z",
     "shell.execute_reply": "2022-06-30T21:26:42.987731Z",
     "shell.execute_reply.started": "2022-06-30T21:26:42.881196Z"
    }
   },
   "outputs": [
    {
     "name": "stdout",
     "output_type": "stream",
     "text": [
      "Train MAE: 629.8361981799798, Val MAE: 464.4030303030303\n"
     ]
    },
    {
     "data": {
      "text/html": [
       "<div>\n",
       "<style scoped>\n",
       "    .dataframe tbody tr th:only-of-type {\n",
       "        vertical-align: middle;\n",
       "    }\n",
       "\n",
       "    .dataframe tbody tr th {\n",
       "        vertical-align: top;\n",
       "    }\n",
       "\n",
       "    .dataframe thead th {\n",
       "        text-align: right;\n",
       "    }\n",
       "</style>\n",
       "<table border=\"1\" class=\"dataframe\">\n",
       "  <thead>\n",
       "    <tr style=\"text-align: right;\">\n",
       "      <th></th>\n",
       "      <th>country</th>\n",
       "      <th>year</th>\n",
       "      <th>sex</th>\n",
       "      <th>age</th>\n",
       "      <th>suicides_no</th>\n",
       "      <th>population</th>\n",
       "      <th>country-year</th>\n",
       "      <th>HDI</th>\n",
       "      <th>generation</th>\n",
       "      <th>preds</th>\n",
       "    </tr>\n",
       "  </thead>\n",
       "  <tbody>\n",
       "    <tr>\n",
       "      <th>407</th>\n",
       "      <td>Georgia</td>\n",
       "      <td>1990</td>\n",
       "      <td>male</td>\n",
       "      <td>5-14 years</td>\n",
       "      <td>0</td>\n",
       "      <td>444500</td>\n",
       "      <td>Georgia1990</td>\n",
       "      <td>0.672</td>\n",
       "      <td>Generation X</td>\n",
       "      <td>-8.0</td>\n",
       "    </tr>\n",
       "    <tr>\n",
       "      <th>803</th>\n",
       "      <td>Russian Federation</td>\n",
       "      <td>1991</td>\n",
       "      <td>female</td>\n",
       "      <td>5-14 years</td>\n",
       "      <td>65</td>\n",
       "      <td>11204500</td>\n",
       "      <td>Russian Federation1991</td>\n",
       "      <td>0.824</td>\n",
       "      <td>Millenials</td>\n",
       "      <td>4424.0</td>\n",
       "    </tr>\n",
       "    <tr>\n",
       "      <th>689</th>\n",
       "      <td>Kyrgyzstan</td>\n",
       "      <td>1993</td>\n",
       "      <td>male</td>\n",
       "      <td>15-24 years</td>\n",
       "      <td>73</td>\n",
       "      <td>414400</td>\n",
       "      <td>Kyrgyzstan1993</td>\n",
       "      <td>0.562</td>\n",
       "      <td>Generation X</td>\n",
       "      <td>40.0</td>\n",
       "    </tr>\n",
       "    <tr>\n",
       "      <th>772</th>\n",
       "      <td>Kyrgyzstan</td>\n",
       "      <td>2000</td>\n",
       "      <td>female</td>\n",
       "      <td>75+ years</td>\n",
       "      <td>10</td>\n",
       "      <td>56276</td>\n",
       "      <td>Kyrgyzstan2000</td>\n",
       "      <td>0.593</td>\n",
       "      <td>G.I. Generation</td>\n",
       "      <td>40.0</td>\n",
       "    </tr>\n",
       "    <tr>\n",
       "      <th>921</th>\n",
       "      <td>Turkmenistan</td>\n",
       "      <td>1990</td>\n",
       "      <td>female</td>\n",
       "      <td>25-34 years</td>\n",
       "      <td>16</td>\n",
       "      <td>306400</td>\n",
       "      <td>Turkmenistan1990</td>\n",
       "      <td>0.666</td>\n",
       "      <td>Boomers</td>\n",
       "      <td>8.0</td>\n",
       "    </tr>\n",
       "    <tr>\n",
       "      <th>1231</th>\n",
       "      <td>Uzbekistan</td>\n",
       "      <td>1994</td>\n",
       "      <td>female</td>\n",
       "      <td>15-24 years</td>\n",
       "      <td>110</td>\n",
       "      <td>2132800</td>\n",
       "      <td>Uzbekistan1994</td>\n",
       "      <td>0.594</td>\n",
       "      <td>Generation X</td>\n",
       "      <td>128.0</td>\n",
       "    </tr>\n",
       "    <tr>\n",
       "      <th>1091</th>\n",
       "      <td>Ukraine</td>\n",
       "      <td>1993</td>\n",
       "      <td>female</td>\n",
       "      <td>5-14 years</td>\n",
       "      <td>20</td>\n",
       "      <td>3738000</td>\n",
       "      <td>Ukraine1993</td>\n",
       "      <td>0.662</td>\n",
       "      <td>Millenials</td>\n",
       "      <td>1192.0</td>\n",
       "    </tr>\n",
       "    <tr>\n",
       "      <th>1288</th>\n",
       "      <td>Uzbekistan</td>\n",
       "      <td>1999</td>\n",
       "      <td>male</td>\n",
       "      <td>75+ years</td>\n",
       "      <td>13</td>\n",
       "      <td>98024</td>\n",
       "      <td>Uzbekistan1999</td>\n",
       "      <td>0.594</td>\n",
       "      <td>G.I. Generation</td>\n",
       "      <td>128.0</td>\n",
       "    </tr>\n",
       "    <tr>\n",
       "      <th>787</th>\n",
       "      <td>Russian Federation</td>\n",
       "      <td>1990</td>\n",
       "      <td>female</td>\n",
       "      <td>35-54 years</td>\n",
       "      <td>2467</td>\n",
       "      <td>19730400</td>\n",
       "      <td>Russian Federation1990</td>\n",
       "      <td>0.824</td>\n",
       "      <td>Silent</td>\n",
       "      <td>4424.0</td>\n",
       "    </tr>\n",
       "    <tr>\n",
       "      <th>839</th>\n",
       "      <td>Russian Federation</td>\n",
       "      <td>1994</td>\n",
       "      <td>female</td>\n",
       "      <td>5-14 years</td>\n",
       "      <td>75</td>\n",
       "      <td>11447200</td>\n",
       "      <td>Russian Federation1994</td>\n",
       "      <td>0.824</td>\n",
       "      <td>Millenials</td>\n",
       "      <td>4424.0</td>\n",
       "    </tr>\n",
       "  </tbody>\n",
       "</table>\n",
       "</div>"
      ],
      "text/plain": [
       "                 country  year     sex          age  suicides_no  population  \\\n",
       "407              Georgia  1990    male   5-14 years            0      444500   \n",
       "803   Russian Federation  1991  female   5-14 years           65    11204500   \n",
       "689           Kyrgyzstan  1993    male  15-24 years           73      414400   \n",
       "772           Kyrgyzstan  2000  female    75+ years           10       56276   \n",
       "921         Turkmenistan  1990  female  25-34 years           16      306400   \n",
       "1231          Uzbekistan  1994  female  15-24 years          110     2132800   \n",
       "1091             Ukraine  1993  female   5-14 years           20     3738000   \n",
       "1288          Uzbekistan  1999    male    75+ years           13       98024   \n",
       "787   Russian Federation  1990  female  35-54 years         2467    19730400   \n",
       "839   Russian Federation  1994  female   5-14 years           75    11447200   \n",
       "\n",
       "                country-year    HDI       generation   preds  \n",
       "407              Georgia1990  0.672     Generation X    -8.0  \n",
       "803   Russian Federation1991  0.824       Millenials  4424.0  \n",
       "689           Kyrgyzstan1993  0.562     Generation X    40.0  \n",
       "772           Kyrgyzstan2000  0.593  G.I. Generation    40.0  \n",
       "921         Turkmenistan1990  0.666          Boomers     8.0  \n",
       "1231          Uzbekistan1994  0.594     Generation X   128.0  \n",
       "1091             Ukraine1993  0.662       Millenials  1192.0  \n",
       "1288          Uzbekistan1999  0.594  G.I. Generation   128.0  \n",
       "787   Russian Federation1990  0.824           Silent  4424.0  \n",
       "839   Russian Federation1994  0.824       Millenials  4424.0  "
      ]
     },
     "execution_count": 165,
     "metadata": {},
     "output_type": "execute_result"
    }
   ],
   "source": [
    "columns = ['country']\n",
    "model, OH_encoder, MAE = get_model(df, columns, target)\n",
    "print(f'Train MAE: {MAE[\"train\"]}, Val MAE: {MAE[\"valid\"]}')\n",
    "req_df = df.sample(n=10)\n",
    "get_predictions_df(model, columns, OH_encoder, req_df)"
   ]
  },
  {
   "cell_type": "markdown",
   "metadata": {},
   "source": [
    "По Украине сильный промах, например, аж в 10 раз. И по некоторым другим странам тоже.\n",
    "\n",
    "Если это по среднему - это отчасти объясняет промах."
   ]
  },
  {
   "cell_type": "code",
   "execution_count": 48,
   "metadata": {
    "execution": {
     "iopub.execute_input": "2022-06-30T21:03:16.297793Z",
     "iopub.status.busy": "2022-06-30T21:03:16.297421Z",
     "iopub.status.idle": "2022-06-30T21:03:16.309806Z",
     "shell.execute_reply": "2022-06-30T21:03:16.308832Z",
     "shell.execute_reply.started": "2022-06-30T21:03:16.297764Z"
    }
   },
   "outputs": [
    {
     "data": {
      "text/plain": [
       "year\n",
       "1990     887.083333\n",
       "1991     891.666667\n",
       "1992     972.166667\n",
       "1993    1039.083333\n",
       "1994    1152.166667\n",
       "1995    1211.750000\n",
       "1996    1263.333333\n",
       "1997    1241.916667\n",
       "1998    1232.416667\n",
       "1999    1196.916667\n",
       "2000    1205.583333\n",
       "Name: suicides_no, dtype: float64"
      ]
     },
     "execution_count": 48,
     "metadata": {},
     "output_type": "execute_result"
    }
   ],
   "source": [
    "df[df.country == 'Ukraine'].groupby('year').suicides_no.mean()"
   ]
  },
  {
   "cell_type": "markdown",
   "metadata": {},
   "source": [
    "Предсказание 1176 - очень близко к средним по Украине, даже с разбивкой по годам.\n",
    "\n",
    "Т.е. результат модели - правильный, если учитывать конкретно это поле."
   ]
  },
  {
   "cell_type": "code",
   "execution_count": 49,
   "metadata": {
    "execution": {
     "iopub.execute_input": "2022-06-30T21:03:50.336837Z",
     "iopub.status.busy": "2022-06-30T21:03:50.336425Z",
     "iopub.status.idle": "2022-06-30T21:03:50.347939Z",
     "shell.execute_reply": "2022-06-30T21:03:50.346961Z",
     "shell.execute_reply.started": "2022-06-30T21:03:50.336806Z"
    },
    "pycharm": {
     "name": "#%%\n"
    }
   },
   "outputs": [
    {
     "data": {
      "text/plain": [
       "year\n",
       "1990    45.583333\n",
       "1991    45.250000\n",
       "1992    40.916667\n",
       "1993    46.916667\n",
       "1994    48.416667\n",
       "1995    50.416667\n",
       "1996    40.000000\n",
       "1997    41.333333\n",
       "1998    42.416667\n",
       "1999    46.333333\n",
       "2000    42.500000\n",
       "Name: suicides_no, dtype: float64"
      ]
     },
     "execution_count": 49,
     "metadata": {},
     "output_type": "execute_result"
    }
   ],
   "source": [
    "df[df.country == 'Kyrgyzstan'].groupby('year').suicides_no.mean()"
   ]
  },
  {
   "cell_type": "markdown",
   "metadata": {
    "pycharm": {
     "name": "#%% md\n"
    }
   },
   "source": [
    "Кыргыстан тоже рассчитан моделью правильно: 46 - предсказание, ~46 - средние по годам."
   ]
  },
  {
   "cell_type": "markdown",
   "metadata": {
    "pycharm": {
     "name": "#%% md\n"
    }
   },
   "source": [
    "## С нормализацией по нат. логарифму\n",
    "Нормализую столбец населения и количества самоубийств, применив логарифм к кол-ву населения и самоубийств"
   ]
  },
  {
   "cell_type": "code",
   "execution_count": 166,
   "metadata": {
    "execution": {
     "iopub.execute_input": "2022-06-30T21:25:08.454127Z",
     "iopub.status.busy": "2022-06-30T21:25:08.453176Z",
     "iopub.status.idle": "2022-06-30T21:25:08.480670Z",
     "shell.execute_reply": "2022-06-30T21:25:08.479693Z",
     "shell.execute_reply.started": "2022-06-30T21:25:08.454084Z"
    },
    "pycharm": {
     "name": "#%%\n"
    }
   },
   "outputs": [
    {
     "data": {
      "text/html": [
       "<div>\n",
       "<style scoped>\n",
       "    .dataframe tbody tr th:only-of-type {\n",
       "        vertical-align: middle;\n",
       "    }\n",
       "\n",
       "    .dataframe tbody tr th {\n",
       "        vertical-align: top;\n",
       "    }\n",
       "\n",
       "    .dataframe thead th {\n",
       "        text-align: right;\n",
       "    }\n",
       "</style>\n",
       "<table border=\"1\" class=\"dataframe\">\n",
       "  <thead>\n",
       "    <tr style=\"text-align: right;\">\n",
       "      <th></th>\n",
       "      <th>country</th>\n",
       "      <th>year</th>\n",
       "      <th>sex</th>\n",
       "      <th>age</th>\n",
       "      <th>suicides_no</th>\n",
       "      <th>population</th>\n",
       "      <th>country-year</th>\n",
       "      <th>HDI</th>\n",
       "      <th>generation</th>\n",
       "    </tr>\n",
       "  </thead>\n",
       "  <tbody>\n",
       "    <tr>\n",
       "      <th>1315</th>\n",
       "      <td>Georgia</td>\n",
       "      <td>1993</td>\n",
       "      <td>male</td>\n",
       "      <td>5-14 years</td>\n",
       "      <td>0.000000</td>\n",
       "      <td>12.937599</td>\n",
       "      <td>Georgia1993</td>\n",
       "      <td>0.672</td>\n",
       "      <td>Millenials</td>\n",
       "    </tr>\n",
       "    <tr>\n",
       "      <th>1316</th>\n",
       "      <td>Georgia</td>\n",
       "      <td>1993</td>\n",
       "      <td>female</td>\n",
       "      <td>55-74 years</td>\n",
       "      <td>2.708050</td>\n",
       "      <td>13.149054</td>\n",
       "      <td>Georgia1993</td>\n",
       "      <td>0.672</td>\n",
       "      <td>Silent</td>\n",
       "    </tr>\n",
       "    <tr>\n",
       "      <th>1317</th>\n",
       "      <td>Georgia</td>\n",
       "      <td>1993</td>\n",
       "      <td>male</td>\n",
       "      <td>55-74 years</td>\n",
       "      <td>3.784190</td>\n",
       "      <td>12.839868</td>\n",
       "      <td>Georgia1993</td>\n",
       "      <td>0.672</td>\n",
       "      <td>Silent</td>\n",
       "    </tr>\n",
       "    <tr>\n",
       "      <th>1318</th>\n",
       "      <td>Georgia</td>\n",
       "      <td>1993</td>\n",
       "      <td>female</td>\n",
       "      <td>75+ years</td>\n",
       "      <td>1.791759</td>\n",
       "      <td>11.800733</td>\n",
       "      <td>Georgia1993</td>\n",
       "      <td>0.672</td>\n",
       "      <td>G.I. Generation</td>\n",
       "    </tr>\n",
       "    <tr>\n",
       "      <th>1319</th>\n",
       "      <td>Georgia</td>\n",
       "      <td>1993</td>\n",
       "      <td>male</td>\n",
       "      <td>75+ years</td>\n",
       "      <td>1.791759</td>\n",
       "      <td>11.008330</td>\n",
       "      <td>Georgia1993</td>\n",
       "      <td>0.672</td>\n",
       "      <td>G.I. Generation</td>\n",
       "    </tr>\n",
       "  </tbody>\n",
       "</table>\n",
       "</div>"
      ],
      "text/plain": [
       "      country  year     sex          age  suicides_no  population  \\\n",
       "1315  Georgia  1993    male   5-14 years     0.000000   12.937599   \n",
       "1316  Georgia  1993  female  55-74 years     2.708050   13.149054   \n",
       "1317  Georgia  1993    male  55-74 years     3.784190   12.839868   \n",
       "1318  Georgia  1993  female    75+ years     1.791759   11.800733   \n",
       "1319  Georgia  1993    male    75+ years     1.791759   11.008330   \n",
       "\n",
       "     country-year    HDI       generation  \n",
       "1315  Georgia1993  0.672       Millenials  \n",
       "1316  Georgia1993  0.672           Silent  \n",
       "1317  Georgia1993  0.672           Silent  \n",
       "1318  Georgia1993  0.672  G.I. Generation  \n",
       "1319  Georgia1993  0.672  G.I. Generation  "
      ]
     },
     "execution_count": 166,
     "metadata": {},
     "output_type": "execute_result"
    }
   ],
   "source": [
    "log_with_zero = lambda x: np.log(x) if x > 0 else 0\n",
    "cols_to_norm = ['population', 'suicides_no']\n",
    "df_norm_ln = df.copy()\n",
    "for col in cols_to_norm:\n",
    "    df_norm_ln.loc[:, col] = df.loc[:, col].apply(log_with_zero)\n",
    "df_norm_ln.tail(5)"
   ]
  },
  {
   "cell_type": "code",
   "execution_count": 173,
   "metadata": {
    "execution": {
     "iopub.execute_input": "2022-06-30T21:27:09.067849Z",
     "iopub.status.busy": "2022-06-30T21:27:09.067445Z",
     "iopub.status.idle": "2022-06-30T21:27:24.369242Z",
     "shell.execute_reply": "2022-06-30T21:27:24.367688Z",
     "shell.execute_reply.started": "2022-06-30T21:27:09.067817Z"
    }
   },
   "outputs": [
    {
     "data": {
      "text/html": [
       "<div>\n",
       "<style scoped>\n",
       "    .dataframe tbody tr th:only-of-type {\n",
       "        vertical-align: middle;\n",
       "    }\n",
       "\n",
       "    .dataframe tbody tr th {\n",
       "        vertical-align: top;\n",
       "    }\n",
       "\n",
       "    .dataframe thead th {\n",
       "        text-align: right;\n",
       "    }\n",
       "</style>\n",
       "<table border=\"1\" class=\"dataframe\">\n",
       "  <thead>\n",
       "    <tr style=\"text-align: right;\">\n",
       "      <th></th>\n",
       "      <th>columns_name</th>\n",
       "      <th>train_MAE</th>\n",
       "      <th>val_MAE</th>\n",
       "    </tr>\n",
       "  </thead>\n",
       "  <tbody>\n",
       "    <tr>\n",
       "      <th>212</th>\n",
       "      <td>sex|age|population|country-year|HDI</td>\n",
       "      <td>157.866765</td>\n",
       "      <td>100.334761</td>\n",
       "    </tr>\n",
       "    <tr>\n",
       "      <th>239</th>\n",
       "      <td>year|sex|age|population|country-year|HDI</td>\n",
       "      <td>158.145613</td>\n",
       "      <td>100.022258</td>\n",
       "    </tr>\n",
       "    <tr>\n",
       "      <th>233</th>\n",
       "      <td>country|sex|age|population|country-year|HDI</td>\n",
       "      <td>158.192534</td>\n",
       "      <td>100.199357</td>\n",
       "    </tr>\n",
       "    <tr>\n",
       "      <th>182</th>\n",
       "      <td>country|sex|age|population|country-year</td>\n",
       "      <td>158.251310</td>\n",
       "      <td>100.047313</td>\n",
       "    </tr>\n",
       "    <tr>\n",
       "      <th>197</th>\n",
       "      <td>year|sex|age|population|country-year</td>\n",
       "      <td>158.347134</td>\n",
       "      <td>100.046553</td>\n",
       "    </tr>\n",
       "  </tbody>\n",
       "</table>\n",
       "</div>"
      ],
      "text/plain": [
       "                                    columns_name   train_MAE     val_MAE\n",
       "212          sex|age|population|country-year|HDI  157.866765  100.334761\n",
       "239     year|sex|age|population|country-year|HDI  158.145613  100.022258\n",
       "233  country|sex|age|population|country-year|HDI  158.192534  100.199357\n",
       "182      country|sex|age|population|country-year  158.251310  100.047313\n",
       "197         year|sex|age|population|country-year  158.347134  100.046553"
      ]
     },
     "execution_count": 173,
     "metadata": {},
     "output_type": "execute_result"
    }
   ],
   "source": [
    "df_column_option = get_column_comb_rating(df_norm_ln, 'suicides_no', mae_supp_func=np.exp)\n",
    "df_column_option.sort_values(by=['train_MAE', 'val_MAE']).head(5)"
   ]
  },
  {
   "cell_type": "markdown",
   "metadata": {
    "pycharm": {
     "name": "#%% md\n"
    }
   },
   "source": [
    "Очевидно, что появились новые кандидаты набора колонок и сами комбинации стали сильно полнее.\n",
    "\n",
    "Восстановлю(из натурального логарифма) не длинную комбинацию **sex|age|population|country-year|HDI**"
   ]
  },
  {
   "cell_type": "code",
   "execution_count": 174,
   "metadata": {
    "execution": {
     "iopub.execute_input": "2022-06-30T21:28:48.688848Z",
     "iopub.status.busy": "2022-06-30T21:28:48.688469Z",
     "iopub.status.idle": "2022-06-30T21:28:48.695590Z",
     "shell.execute_reply": "2022-06-30T21:28:48.694568Z",
     "shell.execute_reply.started": "2022-06-30T21:28:48.688817Z"
    },
    "pycharm": {
     "name": "#%%\n"
    }
   },
   "outputs": [
    {
     "data": {
      "text/plain": [
       "['sex', 'age', 'population', 'country-year', 'HDI']"
      ]
     },
     "execution_count": 174,
     "metadata": {},
     "output_type": "execute_result"
    }
   ],
   "source": [
    "col_combination = 'sex|age|population|country-year|HDI'.split('|')\n",
    "col_combination"
   ]
  },
  {
   "cell_type": "code",
   "execution_count": 176,
   "metadata": {
    "execution": {
     "iopub.execute_input": "2022-06-30T21:29:22.879593Z",
     "iopub.status.busy": "2022-06-30T21:29:22.879074Z",
     "iopub.status.idle": "2022-06-30T21:29:23.067769Z",
     "shell.execute_reply": "2022-06-30T21:29:23.064737Z",
     "shell.execute_reply.started": "2022-06-30T21:29:22.879543Z"
    },
    "pycharm": {
     "name": "#%%\n"
    }
   },
   "outputs": [
    {
     "name": "stdout",
     "output_type": "stream",
     "text": [
      "Train MAE: 157.8667647848423, Val MAE: 100.33476121703279\n"
     ]
    },
    {
     "data": {
      "text/html": [
       "<div>\n",
       "<style scoped>\n",
       "    .dataframe tbody tr th:only-of-type {\n",
       "        vertical-align: middle;\n",
       "    }\n",
       "\n",
       "    .dataframe tbody tr th {\n",
       "        vertical-align: top;\n",
       "    }\n",
       "\n",
       "    .dataframe thead th {\n",
       "        text-align: right;\n",
       "    }\n",
       "</style>\n",
       "<table border=\"1\" class=\"dataframe\">\n",
       "  <thead>\n",
       "    <tr style=\"text-align: right;\">\n",
       "      <th></th>\n",
       "      <th>country</th>\n",
       "      <th>year</th>\n",
       "      <th>sex</th>\n",
       "      <th>age</th>\n",
       "      <th>suicides_no</th>\n",
       "      <th>population</th>\n",
       "      <th>country-year</th>\n",
       "      <th>HDI</th>\n",
       "      <th>generation</th>\n",
       "      <th>preds</th>\n",
       "    </tr>\n",
       "  </thead>\n",
       "  <tbody>\n",
       "    <tr>\n",
       "      <th>364</th>\n",
       "      <td>Belarus</td>\n",
       "      <td>1998</td>\n",
       "      <td>male</td>\n",
       "      <td>15-24 years</td>\n",
       "      <td>287.0</td>\n",
       "      <td>762700.0</td>\n",
       "      <td>Belarus1998</td>\n",
       "      <td>0.683</td>\n",
       "      <td>Generation X</td>\n",
       "      <td>213.0</td>\n",
       "    </tr>\n",
       "    <tr>\n",
       "      <th>731</th>\n",
       "      <td>Kyrgyzstan</td>\n",
       "      <td>1996</td>\n",
       "      <td>female</td>\n",
       "      <td>5-14 years</td>\n",
       "      <td>3.0</td>\n",
       "      <td>561600.0</td>\n",
       "      <td>Kyrgyzstan1996</td>\n",
       "      <td>0.593</td>\n",
       "      <td>Millenials</td>\n",
       "      <td>3.0</td>\n",
       "    </tr>\n",
       "    <tr>\n",
       "      <th>653</th>\n",
       "      <td>Kyrgyzstan</td>\n",
       "      <td>1990</td>\n",
       "      <td>female</td>\n",
       "      <td>55-74 years</td>\n",
       "      <td>38.0</td>\n",
       "      <td>242200.0</td>\n",
       "      <td>Kyrgyzstan1990</td>\n",
       "      <td>0.615</td>\n",
       "      <td>G.I. Generation</td>\n",
       "      <td>30.0</td>\n",
       "    </tr>\n",
       "    <tr>\n",
       "      <th>97</th>\n",
       "      <td>Armenia</td>\n",
       "      <td>1998</td>\n",
       "      <td>male</td>\n",
       "      <td>55-74 years</td>\n",
       "      <td>16.0</td>\n",
       "      <td>243300.0</td>\n",
       "      <td>Armenia1998</td>\n",
       "      <td>0.648</td>\n",
       "      <td>Silent</td>\n",
       "      <td>14.0</td>\n",
       "    </tr>\n",
       "    <tr>\n",
       "      <th>378</th>\n",
       "      <td>Belarus</td>\n",
       "      <td>1999</td>\n",
       "      <td>female</td>\n",
       "      <td>55-74 years</td>\n",
       "      <td>170.0</td>\n",
       "      <td>1157900.0</td>\n",
       "      <td>Belarus1999</td>\n",
       "      <td>0.683</td>\n",
       "      <td>Silent</td>\n",
       "      <td>263.0</td>\n",
       "    </tr>\n",
       "    <tr>\n",
       "      <th>1199</th>\n",
       "      <td>Uzbekistan</td>\n",
       "      <td>1991</td>\n",
       "      <td>female</td>\n",
       "      <td>5-14 years</td>\n",
       "      <td>7.0</td>\n",
       "      <td>2566500.0</td>\n",
       "      <td>Uzbekistan1991</td>\n",
       "      <td>0.594</td>\n",
       "      <td>Millenials</td>\n",
       "      <td>10.0</td>\n",
       "    </tr>\n",
       "    <tr>\n",
       "      <th>341</th>\n",
       "      <td>Belarus</td>\n",
       "      <td>1996</td>\n",
       "      <td>female</td>\n",
       "      <td>75+ years</td>\n",
       "      <td>57.0</td>\n",
       "      <td>302400.0</td>\n",
       "      <td>Belarus1996</td>\n",
       "      <td>0.683</td>\n",
       "      <td>G.I. Generation</td>\n",
       "      <td>91.0</td>\n",
       "    </tr>\n",
       "    <tr>\n",
       "      <th>720</th>\n",
       "      <td>Kyrgyzstan</td>\n",
       "      <td>1996</td>\n",
       "      <td>male</td>\n",
       "      <td>55-74 years</td>\n",
       "      <td>81.0</td>\n",
       "      <td>194300.0</td>\n",
       "      <td>Kyrgyzstan1996</td>\n",
       "      <td>0.593</td>\n",
       "      <td>Silent</td>\n",
       "      <td>69.0</td>\n",
       "    </tr>\n",
       "    <tr>\n",
       "      <th>355</th>\n",
       "      <td>Belarus</td>\n",
       "      <td>1997</td>\n",
       "      <td>female</td>\n",
       "      <td>35-54 years</td>\n",
       "      <td>188.0</td>\n",
       "      <td>1415500.0</td>\n",
       "      <td>Belarus1997</td>\n",
       "      <td>0.683</td>\n",
       "      <td>Boomers</td>\n",
       "      <td>181.0</td>\n",
       "    </tr>\n",
       "    <tr>\n",
       "      <th>231</th>\n",
       "      <td>Azerbaijan</td>\n",
       "      <td>1998</td>\n",
       "      <td>male</td>\n",
       "      <td>25-34 years</td>\n",
       "      <td>12.0</td>\n",
       "      <td>683600.0</td>\n",
       "      <td>Azerbaijan1998</td>\n",
       "      <td>0.640</td>\n",
       "      <td>Generation X</td>\n",
       "      <td>12.0</td>\n",
       "    </tr>\n",
       "  </tbody>\n",
       "</table>\n",
       "</div>"
      ],
      "text/plain": [
       "         country  year     sex          age  suicides_no  population  \\\n",
       "364      Belarus  1998    male  15-24 years        287.0    762700.0   \n",
       "731   Kyrgyzstan  1996  female   5-14 years          3.0    561600.0   \n",
       "653   Kyrgyzstan  1990  female  55-74 years         38.0    242200.0   \n",
       "97       Armenia  1998    male  55-74 years         16.0    243300.0   \n",
       "378      Belarus  1999  female  55-74 years        170.0   1157900.0   \n",
       "1199  Uzbekistan  1991  female   5-14 years          7.0   2566500.0   \n",
       "341      Belarus  1996  female    75+ years         57.0    302400.0   \n",
       "720   Kyrgyzstan  1996    male  55-74 years         81.0    194300.0   \n",
       "355      Belarus  1997  female  35-54 years        188.0   1415500.0   \n",
       "231   Azerbaijan  1998    male  25-34 years         12.0    683600.0   \n",
       "\n",
       "        country-year    HDI       generation  preds  \n",
       "364      Belarus1998  0.683     Generation X  213.0  \n",
       "731   Kyrgyzstan1996  0.593       Millenials    3.0  \n",
       "653   Kyrgyzstan1990  0.615  G.I. Generation   30.0  \n",
       "97       Armenia1998  0.648           Silent   14.0  \n",
       "378      Belarus1999  0.683           Silent  263.0  \n",
       "1199  Uzbekistan1991  0.594       Millenials   10.0  \n",
       "341      Belarus1996  0.683  G.I. Generation   91.0  \n",
       "720   Kyrgyzstan1996  0.593           Silent   69.0  \n",
       "355      Belarus1997  0.683          Boomers  181.0  \n",
       "231   Azerbaijan1998  0.640     Generation X   12.0  "
      ]
     },
     "execution_count": 176,
     "metadata": {},
     "output_type": "execute_result"
    }
   ],
   "source": [
    "model, OH_encoder, MAE = get_model(df_norm_ln, col_combination, 'suicides_no', mae_supp_func=np.exp)\n",
    "print(f'Train MAE: {MAE[\"train\"]}, Val MAE: {MAE[\"valid\"]}')\n",
    "result = get_predictions_df(model, col_combination, OH_encoder, req_df=df_norm_ln.sample(10))\n",
    "# восстанавливаю от логарифмирования по населению и кол-ву суицидов(ну и предсказания, для случая предск. суицидов)\n",
    "result.loc[:, ['population', 'preds', 'suicides_no']] = \\\n",
    "    result.loc[:, ['population', 'preds', 'suicides_no']].apply(np.exp)\n",
    "result.loc[:, 'preds'] = result.preds.round()\n",
    "result"
   ]
  },
  {
   "cell_type": "markdown",
   "metadata": {
    "pycharm": {
     "name": "#%% md\n"
    }
   },
   "source": [
    "Точность получилась весьма неплохая. Разница между реальным значением и предсказанием - не выглядит значительной(пусть даже числа МАЕ и показывают довольно большую ошибку)"
   ]
  },
  {
   "cell_type": "markdown",
   "metadata": {
    "pycharm": {
     "name": "#%% md\n"
    }
   },
   "source": [
    "## Нормализация мин-макс"
   ]
  },
  {
   "cell_type": "code",
   "execution_count": 177,
   "metadata": {
    "execution": {
     "iopub.execute_input": "2022-06-30T21:31:32.590549Z",
     "iopub.status.busy": "2022-06-30T21:31:32.590162Z",
     "iopub.status.idle": "2022-06-30T21:31:32.601551Z",
     "shell.execute_reply": "2022-06-30T21:31:32.600541Z",
     "shell.execute_reply.started": "2022-06-30T21:31:32.590503Z"
    }
   },
   "outputs": [
    {
     "data": {
      "text/plain": [
       "(0       0.001119\n",
       " 1       0.000090\n",
       " 2       0.000492\n",
       " 3       0.000716\n",
       " 4       0.000672\n",
       "           ...   \n",
       " 1315    0.000000\n",
       " 1316    0.000672\n",
       " 1317    0.001970\n",
       " 1318    0.000269\n",
       " 1319    0.000269\n",
       " Name: suicides_no, Length: 1319, dtype: float64,\n",
       " 22338)"
      ]
     },
     "execution_count": 177,
     "metadata": {},
     "output_type": "execute_result"
    }
   ],
   "source": [
    "def get_min_max_norm(series):\n",
    "    s_min, s_max = series.min(), series.max()\n",
    "    s_range = s_max - s_min\n",
    "    return (series - s_min) / (s_range), s_range\n",
    "\n",
    "cast, s_range = get_min_max_norm(df.suicides_no)\n",
    "cast, s_range"
   ]
  },
  {
   "cell_type": "code",
   "execution_count": 178,
   "metadata": {
    "execution": {
     "iopub.execute_input": "2022-06-30T21:33:00.114483Z",
     "iopub.status.busy": "2022-06-30T21:33:00.114115Z",
     "iopub.status.idle": "2022-06-30T21:33:00.139461Z",
     "shell.execute_reply": "2022-06-30T21:33:00.137822Z",
     "shell.execute_reply.started": "2022-06-30T21:33:00.114454Z"
    }
   },
   "outputs": [
    {
     "data": {
      "text/html": [
       "<div>\n",
       "<style scoped>\n",
       "    .dataframe tbody tr th:only-of-type {\n",
       "        vertical-align: middle;\n",
       "    }\n",
       "\n",
       "    .dataframe tbody tr th {\n",
       "        vertical-align: top;\n",
       "    }\n",
       "\n",
       "    .dataframe thead th {\n",
       "        text-align: right;\n",
       "    }\n",
       "</style>\n",
       "<table border=\"1\" class=\"dataframe\">\n",
       "  <thead>\n",
       "    <tr style=\"text-align: right;\">\n",
       "      <th></th>\n",
       "      <th>country</th>\n",
       "      <th>year</th>\n",
       "      <th>sex</th>\n",
       "      <th>age</th>\n",
       "      <th>suicides_no</th>\n",
       "      <th>population</th>\n",
       "      <th>country-year</th>\n",
       "      <th>HDI</th>\n",
       "      <th>generation</th>\n",
       "    </tr>\n",
       "  </thead>\n",
       "  <tbody>\n",
       "    <tr>\n",
       "      <th>1315</th>\n",
       "      <td>Georgia</td>\n",
       "      <td>1993</td>\n",
       "      <td>male</td>\n",
       "      <td>5-14 years</td>\n",
       "      <td>0.000000</td>\n",
       "      <td>0.017543</td>\n",
       "      <td>Georgia1993</td>\n",
       "      <td>0.672</td>\n",
       "      <td>Millenials</td>\n",
       "    </tr>\n",
       "    <tr>\n",
       "      <th>1316</th>\n",
       "      <td>Georgia</td>\n",
       "      <td>1993</td>\n",
       "      <td>female</td>\n",
       "      <td>55-74 years</td>\n",
       "      <td>0.000672</td>\n",
       "      <td>0.021833</td>\n",
       "      <td>Georgia1993</td>\n",
       "      <td>0.672</td>\n",
       "      <td>Silent</td>\n",
       "    </tr>\n",
       "    <tr>\n",
       "      <th>1317</th>\n",
       "      <td>Georgia</td>\n",
       "      <td>1993</td>\n",
       "      <td>male</td>\n",
       "      <td>55-74 years</td>\n",
       "      <td>0.001970</td>\n",
       "      <td>0.015847</td>\n",
       "      <td>Georgia1993</td>\n",
       "      <td>0.672</td>\n",
       "      <td>Silent</td>\n",
       "    </tr>\n",
       "    <tr>\n",
       "      <th>1318</th>\n",
       "      <td>Georgia</td>\n",
       "      <td>1993</td>\n",
       "      <td>female</td>\n",
       "      <td>75+ years</td>\n",
       "      <td>0.000269</td>\n",
       "      <td>0.005170</td>\n",
       "      <td>Georgia1993</td>\n",
       "      <td>0.672</td>\n",
       "      <td>G.I. Generation</td>\n",
       "    </tr>\n",
       "    <tr>\n",
       "      <th>1319</th>\n",
       "      <td>Georgia</td>\n",
       "      <td>1993</td>\n",
       "      <td>male</td>\n",
       "      <td>75+ years</td>\n",
       "      <td>0.000269</td>\n",
       "      <td>0.001971</td>\n",
       "      <td>Georgia1993</td>\n",
       "      <td>0.672</td>\n",
       "      <td>G.I. Generation</td>\n",
       "    </tr>\n",
       "  </tbody>\n",
       "</table>\n",
       "</div>"
      ],
      "text/plain": [
       "      country  year     sex          age  suicides_no  population  \\\n",
       "1315  Georgia  1993    male   5-14 years     0.000000    0.017543   \n",
       "1316  Georgia  1993  female  55-74 years     0.000672    0.021833   \n",
       "1317  Georgia  1993    male  55-74 years     0.001970    0.015847   \n",
       "1318  Georgia  1993  female    75+ years     0.000269    0.005170   \n",
       "1319  Georgia  1993    male    75+ years     0.000269    0.001971   \n",
       "\n",
       "     country-year    HDI       generation  \n",
       "1315  Georgia1993  0.672       Millenials  \n",
       "1316  Georgia1993  0.672           Silent  \n",
       "1317  Georgia1993  0.672           Silent  \n",
       "1318  Georgia1993  0.672  G.I. Generation  \n",
       "1319  Georgia1993  0.672  G.I. Generation  "
      ]
     },
     "execution_count": 178,
     "metadata": {},
     "output_type": "execute_result"
    }
   ],
   "source": [
    "# Нормализую столбец населения и количества самоубийств, приведя его от 0 до 1.(или логарифм)\n",
    "# сначала логарифм\n",
    "df_minmax = df.copy()\n",
    "s_ranges = {}\n",
    "for column in ['population', 'suicides_no']:\n",
    "    df_minmax.loc[:, column], s_ranges[column] = get_min_max_norm(df_minmax[column])\n",
    "df_minmax.tail(5)"
   ]
  },
  {
   "cell_type": "code",
   "execution_count": 184,
   "metadata": {
    "execution": {
     "iopub.execute_input": "2022-06-30T21:33:50.638644Z",
     "iopub.status.busy": "2022-06-30T21:33:50.638224Z",
     "iopub.status.idle": "2022-06-30T21:34:07.254810Z",
     "shell.execute_reply": "2022-06-30T21:34:07.253278Z",
     "shell.execute_reply.started": "2022-06-30T21:33:50.638604Z"
    }
   },
   "outputs": [
    {
     "data": {
      "text/html": [
       "<div>\n",
       "<style scoped>\n",
       "    .dataframe tbody tr th:only-of-type {\n",
       "        vertical-align: middle;\n",
       "    }\n",
       "\n",
       "    .dataframe tbody tr th {\n",
       "        vertical-align: top;\n",
       "    }\n",
       "\n",
       "    .dataframe thead th {\n",
       "        text-align: right;\n",
       "    }\n",
       "</style>\n",
       "<table border=\"1\" class=\"dataframe\">\n",
       "  <thead>\n",
       "    <tr style=\"text-align: right;\">\n",
       "      <th></th>\n",
       "      <th>columns_name</th>\n",
       "      <th>train_MAE</th>\n",
       "      <th>val_MAE</th>\n",
       "    </tr>\n",
       "  </thead>\n",
       "  <tbody>\n",
       "    <tr>\n",
       "      <th>18</th>\n",
       "      <td>year|country-year</td>\n",
       "      <td>613.419816</td>\n",
       "      <td>493.617967</td>\n",
       "    </tr>\n",
       "    <tr>\n",
       "      <th>69</th>\n",
       "      <td>year|country-year|HDI</td>\n",
       "      <td>613.829810</td>\n",
       "      <td>494.125456</td>\n",
       "    </tr>\n",
       "    <tr>\n",
       "      <th>39</th>\n",
       "      <td>country|year|country-year</td>\n",
       "      <td>613.829956</td>\n",
       "      <td>493.809407</td>\n",
       "    </tr>\n",
       "    <tr>\n",
       "      <th>0</th>\n",
       "      <td>country</td>\n",
       "      <td>628.480444</td>\n",
       "      <td>463.570511</td>\n",
       "    </tr>\n",
       "    <tr>\n",
       "      <th>13</th>\n",
       "      <td>country|HDI</td>\n",
       "      <td>628.803901</td>\n",
       "      <td>464.121945</td>\n",
       "    </tr>\n",
       "  </tbody>\n",
       "</table>\n",
       "</div>"
      ],
      "text/plain": [
       "                 columns_name   train_MAE     val_MAE\n",
       "18          year|country-year  613.419816  493.617967\n",
       "69      year|country-year|HDI  613.829810  494.125456\n",
       "39  country|year|country-year  613.829956  493.809407\n",
       "0                     country  628.480444  463.570511\n",
       "13                country|HDI  628.803901  464.121945"
      ]
     },
     "execution_count": 184,
     "metadata": {},
     "output_type": "execute_result"
    }
   ],
   "source": [
    "mae_func_minmax = lambda x: x * s_ranges['suicides_no']\n",
    "df_column_option = get_column_comb_rating(df_minmax, 'suicides_no', mae_supp_func=mae_func_minmax)\n",
    "df_column_option.sort_values(by=['train_MAE', 'val_MAE']).head(5)"
   ]
  },
  {
   "cell_type": "code",
   "execution_count": 181,
   "metadata": {
    "execution": {
     "iopub.execute_input": "2022-06-30T21:34:21.522498Z",
     "iopub.status.busy": "2022-06-30T21:34:21.522112Z",
     "iopub.status.idle": "2022-06-30T21:34:21.530279Z",
     "shell.execute_reply": "2022-06-30T21:34:21.529045Z",
     "shell.execute_reply.started": "2022-06-30T21:34:21.522464Z"
    },
    "pycharm": {
     "name": "#%%\n"
    }
   },
   "outputs": [
    {
     "data": {
      "text/plain": [
       "['year', 'country-year']"
      ]
     },
     "execution_count": 181,
     "metadata": {},
     "output_type": "execute_result"
    }
   ],
   "source": [
    "col_combination = 'year|country-year'.split('|')\n",
    "col_combination"
   ]
  },
  {
   "cell_type": "code",
   "execution_count": 185,
   "metadata": {
    "execution": {
     "iopub.execute_input": "2022-06-30T21:35:29.101559Z",
     "iopub.status.busy": "2022-06-30T21:35:29.101140Z",
     "iopub.status.idle": "2022-06-30T21:35:29.256926Z",
     "shell.execute_reply": "2022-06-30T21:35:29.255670Z",
     "shell.execute_reply.started": "2022-06-30T21:35:29.101510Z"
    },
    "pycharm": {
     "name": "#%%\n"
    }
   },
   "outputs": [
    {
     "name": "stdout",
     "output_type": "stream",
     "text": [
      "Train MAE: 613.4198156634934, Val MAE: 493.6179671170541\n"
     ]
    },
    {
     "data": {
      "text/html": [
       "<div>\n",
       "<style scoped>\n",
       "    .dataframe tbody tr th:only-of-type {\n",
       "        vertical-align: middle;\n",
       "    }\n",
       "\n",
       "    .dataframe tbody tr th {\n",
       "        vertical-align: top;\n",
       "    }\n",
       "\n",
       "    .dataframe thead th {\n",
       "        text-align: right;\n",
       "    }\n",
       "</style>\n",
       "<table border=\"1\" class=\"dataframe\">\n",
       "  <thead>\n",
       "    <tr style=\"text-align: right;\">\n",
       "      <th></th>\n",
       "      <th>country</th>\n",
       "      <th>year</th>\n",
       "      <th>sex</th>\n",
       "      <th>age</th>\n",
       "      <th>suicides_no</th>\n",
       "      <th>population</th>\n",
       "      <th>country-year</th>\n",
       "      <th>HDI</th>\n",
       "      <th>generation</th>\n",
       "      <th>preds</th>\n",
       "    </tr>\n",
       "  </thead>\n",
       "  <tbody>\n",
       "    <tr>\n",
       "      <th>945</th>\n",
       "      <td>Turkmenistan</td>\n",
       "      <td>1992</td>\n",
       "      <td>female</td>\n",
       "      <td>25-34 years</td>\n",
       "      <td>10.0</td>\n",
       "      <td>305000.0</td>\n",
       "      <td>Turkmenistan1992</td>\n",
       "      <td>0.666</td>\n",
       "      <td>Boomers</td>\n",
       "      <td>30.0</td>\n",
       "    </tr>\n",
       "    <tr>\n",
       "      <th>939</th>\n",
       "      <td>Turkmenistan</td>\n",
       "      <td>1992</td>\n",
       "      <td>female</td>\n",
       "      <td>75+ years</td>\n",
       "      <td>5.0</td>\n",
       "      <td>17300.0</td>\n",
       "      <td>Turkmenistan1992</td>\n",
       "      <td>0.666</td>\n",
       "      <td>G.I. Generation</td>\n",
       "      <td>30.0</td>\n",
       "    </tr>\n",
       "    <tr>\n",
       "      <th>207</th>\n",
       "      <td>Azerbaijan</td>\n",
       "      <td>1996</td>\n",
       "      <td>male</td>\n",
       "      <td>35-54 years</td>\n",
       "      <td>14.0</td>\n",
       "      <td>678400.0</td>\n",
       "      <td>Azerbaijan1996</td>\n",
       "      <td>0.640</td>\n",
       "      <td>Boomers</td>\n",
       "      <td>6.0</td>\n",
       "    </tr>\n",
       "    <tr>\n",
       "      <th>232</th>\n",
       "      <td>Azerbaijan</td>\n",
       "      <td>1998</td>\n",
       "      <td>female</td>\n",
       "      <td>55-74 years</td>\n",
       "      <td>4.0</td>\n",
       "      <td>476200.0</td>\n",
       "      <td>Azerbaijan1998</td>\n",
       "      <td>0.640</td>\n",
       "      <td>Silent</td>\n",
       "      <td>3.0</td>\n",
       "    </tr>\n",
       "    <tr>\n",
       "      <th>613</th>\n",
       "      <td>Kazakhstan</td>\n",
       "      <td>1998</td>\n",
       "      <td>male</td>\n",
       "      <td>35-54 years</td>\n",
       "      <td>1459.0</td>\n",
       "      <td>1709000.0</td>\n",
       "      <td>Kazakhstan1998</td>\n",
       "      <td>0.679</td>\n",
       "      <td>Boomers</td>\n",
       "      <td>489.0</td>\n",
       "    </tr>\n",
       "    <tr>\n",
       "      <th>1065</th>\n",
       "      <td>Ukraine</td>\n",
       "      <td>1991</td>\n",
       "      <td>female</td>\n",
       "      <td>15-24 years</td>\n",
       "      <td>137.0</td>\n",
       "      <td>3479600.0</td>\n",
       "      <td>Ukraine1991</td>\n",
       "      <td>0.662</td>\n",
       "      <td>Generation X</td>\n",
       "      <td>635.0</td>\n",
       "    </tr>\n",
       "    <tr>\n",
       "      <th>760</th>\n",
       "      <td>Kyrgyzstan</td>\n",
       "      <td>1999</td>\n",
       "      <td>female</td>\n",
       "      <td>75+ years</td>\n",
       "      <td>11.0</td>\n",
       "      <td>39300.0</td>\n",
       "      <td>Kyrgyzstan1999</td>\n",
       "      <td>0.593</td>\n",
       "      <td>G.I. Generation</td>\n",
       "      <td>46.0</td>\n",
       "    </tr>\n",
       "    <tr>\n",
       "      <th>632</th>\n",
       "      <td>Kazakhstan</td>\n",
       "      <td>1999</td>\n",
       "      <td>female</td>\n",
       "      <td>35-54 years</td>\n",
       "      <td>198.0</td>\n",
       "      <td>1894500.0</td>\n",
       "      <td>Kazakhstan1999</td>\n",
       "      <td>0.679</td>\n",
       "      <td>Boomers</td>\n",
       "      <td>393.0</td>\n",
       "    </tr>\n",
       "    <tr>\n",
       "      <th>594</th>\n",
       "      <td>Kazakhstan</td>\n",
       "      <td>1996</td>\n",
       "      <td>female</td>\n",
       "      <td>55-74 years</td>\n",
       "      <td>211.0</td>\n",
       "      <td>1157700.0</td>\n",
       "      <td>Kazakhstan1996</td>\n",
       "      <td>0.679</td>\n",
       "      <td>Silent</td>\n",
       "      <td>429.0</td>\n",
       "    </tr>\n",
       "    <tr>\n",
       "      <th>1133</th>\n",
       "      <td>Ukraine</td>\n",
       "      <td>1997</td>\n",
       "      <td>female</td>\n",
       "      <td>75+ years</td>\n",
       "      <td>409.0</td>\n",
       "      <td>1683700.0</td>\n",
       "      <td>Ukraine1997</td>\n",
       "      <td>0.668</td>\n",
       "      <td>G.I. Generation</td>\n",
       "      <td>1185.0</td>\n",
       "    </tr>\n",
       "  </tbody>\n",
       "</table>\n",
       "</div>"
      ],
      "text/plain": [
       "           country  year     sex          age  suicides_no  population  \\\n",
       "945   Turkmenistan  1992  female  25-34 years         10.0    305000.0   \n",
       "939   Turkmenistan  1992  female    75+ years          5.0     17300.0   \n",
       "207     Azerbaijan  1996    male  35-54 years         14.0    678400.0   \n",
       "232     Azerbaijan  1998  female  55-74 years          4.0    476200.0   \n",
       "613     Kazakhstan  1998    male  35-54 years       1459.0   1709000.0   \n",
       "1065       Ukraine  1991  female  15-24 years        137.0   3479600.0   \n",
       "760     Kyrgyzstan  1999  female    75+ years         11.0     39300.0   \n",
       "632     Kazakhstan  1999  female  35-54 years        198.0   1894500.0   \n",
       "594     Kazakhstan  1996  female  55-74 years        211.0   1157700.0   \n",
       "1133       Ukraine  1997  female    75+ years        409.0   1683700.0   \n",
       "\n",
       "          country-year    HDI       generation   preds  \n",
       "945   Turkmenistan1992  0.666          Boomers    30.0  \n",
       "939   Turkmenistan1992  0.666  G.I. Generation    30.0  \n",
       "207     Azerbaijan1996  0.640          Boomers     6.0  \n",
       "232     Azerbaijan1998  0.640           Silent     3.0  \n",
       "613     Kazakhstan1998  0.679          Boomers   489.0  \n",
       "1065       Ukraine1991  0.662     Generation X   635.0  \n",
       "760     Kyrgyzstan1999  0.593  G.I. Generation    46.0  \n",
       "632     Kazakhstan1999  0.679          Boomers   393.0  \n",
       "594     Kazakhstan1996  0.679           Silent   429.0  \n",
       "1133       Ukraine1997  0.668  G.I. Generation  1185.0  "
      ]
     },
     "execution_count": 185,
     "metadata": {},
     "output_type": "execute_result"
    }
   ],
   "source": [
    "model, OH_encoder, MAE = get_model(df_minmax, col_combination, 'suicides_no', mae_func_minmax)\n",
    "print(f'Train MAE: {MAE[\"train\"]}, Val MAE: {MAE[\"valid\"]}')\n",
    "result = get_predictions_df(model, col_combination, OH_encoder, req_df=df_minmax.sample(10))\n",
    "\n",
    "for column in ['population', 'preds', 'suicides_no']:\n",
    "    s_range = s_ranges['suicides_no'] if column == 'preds' else s_ranges[column]\n",
    "    result.loc[:, column] = round(result[column] * s_range)\n",
    "result"
   ]
  },
  {
   "cell_type": "markdown",
   "metadata": {
    "pycharm": {
     "name": "#%% md\n"
    }
   },
   "source": [
    "Ошибка с минмакс - оказалась примерной такой же, что и при отсутсвии нормализации.\n",
    "\n",
    "Мб даже больше"
   ]
  },
  {
   "cell_type": "markdown",
   "metadata": {
    "pycharm": {
     "name": "#%% md\n"
    }
   },
   "source": [
    "## Нормализация отклонения от среднего"
   ]
  },
  {
   "cell_type": "code",
   "execution_count": 186,
   "metadata": {
    "execution": {
     "iopub.execute_input": "2022-06-30T21:37:13.861756Z",
     "iopub.status.busy": "2022-06-30T21:37:13.861374Z",
     "iopub.status.idle": "2022-06-30T21:37:13.875654Z",
     "shell.execute_reply": "2022-06-30T21:37:13.873963Z",
     "shell.execute_reply.started": "2022-06-30T21:37:13.861724Z"
    }
   },
   "outputs": [
    {
     "data": {
      "text/plain": [
       "(0      -0.279052\n",
       " 1      -0.289607\n",
       " 2      -0.285477\n",
       " 3      -0.283182\n",
       " 4      -0.283641\n",
       "           ...   \n",
       " 1315   -0.290525\n",
       " 1316   -0.283641\n",
       " 1317   -0.270332\n",
       " 1318   -0.287771\n",
       " 1319   -0.287771\n",
       " Name: suicides_no, Length: 1319, dtype: float64,\n",
       " {'std': 2179.0020519471304, 'mean': 633.054586808188})"
      ]
     },
     "execution_count": 186,
     "metadata": {},
     "output_type": "execute_result"
    }
   ],
   "source": [
    "def norm_by_std(series):\n",
    "    s_mean, s_std = series.mean(), series.std()\n",
    "    series = (series - s_mean) / s_std if s_std != 0 else 0.\n",
    "    return series, {'std': s_std, 'mean': s_mean}\n",
    "\n",
    "norm_by_std(df.suicides_no)"
   ]
  },
  {
   "cell_type": "code",
   "execution_count": 196,
   "metadata": {
    "execution": {
     "iopub.execute_input": "2022-06-30T21:38:12.624468Z",
     "iopub.status.busy": "2022-06-30T21:38:12.624044Z",
     "iopub.status.idle": "2022-06-30T21:38:12.638649Z",
     "shell.execute_reply": "2022-06-30T21:38:12.637396Z",
     "shell.execute_reply.started": "2022-06-30T21:38:12.624433Z"
    }
   },
   "outputs": [
    {
     "data": {
      "text/plain": [
       "0       0.0\n",
       "1       0.0\n",
       "2       0.0\n",
       "3       0.0\n",
       "4       0.0\n",
       "       ... \n",
       "1315    0.0\n",
       "1316    0.0\n",
       "1317    0.0\n",
       "1318    0.0\n",
       "1319    0.0\n",
       "Name: suicides_no, Length: 1319, dtype: float64"
      ]
     },
     "execution_count": 196,
     "metadata": {},
     "output_type": "execute_result"
    }
   ],
   "source": [
    "def restore_norm_by_std(series, s_norm_data):\n",
    "    series = (series * s_norm_data['std']) + s_norm_data['mean']\n",
    "    return series\n",
    "\n",
    "demo_series, demo_norm_data = norm_by_std(df.suicides_no)\n",
    "restore_norm_by_std(demo_series, demo_norm_data) - df.suicides_no"
   ]
  },
  {
   "cell_type": "code",
   "execution_count": 205,
   "metadata": {
    "execution": {
     "iopub.execute_input": "2022-06-30T21:39:08.843394Z",
     "iopub.status.busy": "2022-06-30T21:39:08.843023Z",
     "iopub.status.idle": "2022-06-30T21:39:08.863787Z",
     "shell.execute_reply": "2022-06-30T21:39:08.862913Z",
     "shell.execute_reply.started": "2022-06-30T21:39:08.843364Z"
    }
   },
   "outputs": [
    {
     "data": {
      "text/html": [
       "<div>\n",
       "<style scoped>\n",
       "    .dataframe tbody tr th:only-of-type {\n",
       "        vertical-align: middle;\n",
       "    }\n",
       "\n",
       "    .dataframe tbody tr th {\n",
       "        vertical-align: top;\n",
       "    }\n",
       "\n",
       "    .dataframe thead th {\n",
       "        text-align: right;\n",
       "    }\n",
       "</style>\n",
       "<table border=\"1\" class=\"dataframe\">\n",
       "  <thead>\n",
       "    <tr style=\"text-align: right;\">\n",
       "      <th></th>\n",
       "      <th>country</th>\n",
       "      <th>year</th>\n",
       "      <th>sex</th>\n",
       "      <th>age</th>\n",
       "      <th>suicides_no</th>\n",
       "      <th>population</th>\n",
       "      <th>country-year</th>\n",
       "      <th>HDI</th>\n",
       "      <th>generation</th>\n",
       "    </tr>\n",
       "  </thead>\n",
       "  <tbody>\n",
       "    <tr>\n",
       "      <th>1315</th>\n",
       "      <td>Georgia</td>\n",
       "      <td>1993</td>\n",
       "      <td>male</td>\n",
       "      <td>5-14 years</td>\n",
       "      <td>-0.290525</td>\n",
       "      <td>-0.446026</td>\n",
       "      <td>Georgia1993</td>\n",
       "      <td>0.672</td>\n",
       "      <td>Millenials</td>\n",
       "    </tr>\n",
       "    <tr>\n",
       "      <th>1316</th>\n",
       "      <td>Georgia</td>\n",
       "      <td>1993</td>\n",
       "      <td>female</td>\n",
       "      <td>55-74 years</td>\n",
       "      <td>-0.283641</td>\n",
       "      <td>-0.420172</td>\n",
       "      <td>Georgia1993</td>\n",
       "      <td>0.672</td>\n",
       "      <td>Silent</td>\n",
       "    </tr>\n",
       "    <tr>\n",
       "      <th>1317</th>\n",
       "      <td>Georgia</td>\n",
       "      <td>1993</td>\n",
       "      <td>male</td>\n",
       "      <td>55-74 years</td>\n",
       "      <td>-0.270332</td>\n",
       "      <td>-0.456249</td>\n",
       "      <td>Georgia1993</td>\n",
       "      <td>0.672</td>\n",
       "      <td>Silent</td>\n",
       "    </tr>\n",
       "    <tr>\n",
       "      <th>1318</th>\n",
       "      <td>Georgia</td>\n",
       "      <td>1993</td>\n",
       "      <td>female</td>\n",
       "      <td>75+ years</td>\n",
       "      <td>-0.287771</td>\n",
       "      <td>-0.520598</td>\n",
       "      <td>Georgia1993</td>\n",
       "      <td>0.672</td>\n",
       "      <td>G.I. Generation</td>\n",
       "    </tr>\n",
       "    <tr>\n",
       "      <th>1319</th>\n",
       "      <td>Georgia</td>\n",
       "      <td>1993</td>\n",
       "      <td>male</td>\n",
       "      <td>75+ years</td>\n",
       "      <td>-0.287771</td>\n",
       "      <td>-0.539875</td>\n",
       "      <td>Georgia1993</td>\n",
       "      <td>0.672</td>\n",
       "      <td>G.I. Generation</td>\n",
       "    </tr>\n",
       "  </tbody>\n",
       "</table>\n",
       "</div>"
      ],
      "text/plain": [
       "      country  year     sex          age  suicides_no  population  \\\n",
       "1315  Georgia  1993    male   5-14 years    -0.290525   -0.446026   \n",
       "1316  Georgia  1993  female  55-74 years    -0.283641   -0.420172   \n",
       "1317  Georgia  1993    male  55-74 years    -0.270332   -0.456249   \n",
       "1318  Georgia  1993  female    75+ years    -0.287771   -0.520598   \n",
       "1319  Georgia  1993    male    75+ years    -0.287771   -0.539875   \n",
       "\n",
       "     country-year    HDI       generation  \n",
       "1315  Georgia1993  0.672       Millenials  \n",
       "1316  Georgia1993  0.672           Silent  \n",
       "1317  Georgia1993  0.672           Silent  \n",
       "1318  Georgia1993  0.672  G.I. Generation  \n",
       "1319  Georgia1993  0.672  G.I. Generation  "
      ]
     },
     "execution_count": 205,
     "metadata": {},
     "output_type": "execute_result"
    }
   ],
   "source": [
    "df_std = df.copy()\n",
    "s_norm_data = {}\n",
    "for column in ['population', 'suicides_no']:\n",
    "    df_std.loc[:, column], s_norm_data[column] = norm_by_std(df_std[column])\n",
    "df_std.tail(5)"
   ]
  },
  {
   "cell_type": "code",
   "execution_count": 206,
   "metadata": {},
   "outputs": [],
   "source": [
    "mae_func_std = lambda x: restore_norm_by_std(x, s_norm_data['suicides_no'])"
   ]
  },
  {
   "cell_type": "code",
   "execution_count": 210,
   "metadata": {
    "execution": {
     "iopub.execute_input": "2022-06-30T21:40:39.104710Z",
     "iopub.status.busy": "2022-06-30T21:40:39.104347Z",
     "iopub.status.idle": "2022-06-30T21:40:39.123193Z",
     "shell.execute_reply": "2022-06-30T21:40:39.121048Z",
     "shell.execute_reply.started": "2022-06-30T21:40:39.104681Z"
    },
    "pycharm": {
     "name": "#%%\n"
    }
   },
   "outputs": [
    {
     "data": {
      "text/html": [
       "<div>\n",
       "<style scoped>\n",
       "    .dataframe tbody tr th:only-of-type {\n",
       "        vertical-align: middle;\n",
       "    }\n",
       "\n",
       "    .dataframe tbody tr th {\n",
       "        vertical-align: top;\n",
       "    }\n",
       "\n",
       "    .dataframe thead th {\n",
       "        text-align: right;\n",
       "    }\n",
       "</style>\n",
       "<table border=\"1\" class=\"dataframe\">\n",
       "  <thead>\n",
       "    <tr style=\"text-align: right;\">\n",
       "      <th></th>\n",
       "      <th>columns_name</th>\n",
       "      <th>train_MAE</th>\n",
       "      <th>val_MAE</th>\n",
       "    </tr>\n",
       "  </thead>\n",
       "  <tbody>\n",
       "    <tr>\n",
       "      <th>18</th>\n",
       "      <td>year|country-year</td>\n",
       "      <td>0.281514</td>\n",
       "      <td>0.226534</td>\n",
       "    </tr>\n",
       "    <tr>\n",
       "      <th>39</th>\n",
       "      <td>country|year|country-year</td>\n",
       "      <td>0.281684</td>\n",
       "      <td>0.226631</td>\n",
       "    </tr>\n",
       "    <tr>\n",
       "      <th>69</th>\n",
       "      <td>year|country-year|HDI</td>\n",
       "      <td>0.281889</td>\n",
       "      <td>0.226931</td>\n",
       "    </tr>\n",
       "    <tr>\n",
       "      <th>13</th>\n",
       "      <td>country|HDI</td>\n",
       "      <td>0.288614</td>\n",
       "      <td>0.213088</td>\n",
       "    </tr>\n",
       "    <tr>\n",
       "      <th>0</th>\n",
       "      <td>country</td>\n",
       "      <td>0.290333</td>\n",
       "      <td>0.214861</td>\n",
       "    </tr>\n",
       "    <tr>\n",
       "      <th>54</th>\n",
       "      <td>country|country-year|HDI</td>\n",
       "      <td>0.291547</td>\n",
       "      <td>0.237142</td>\n",
       "    </tr>\n",
       "    <tr>\n",
       "      <th>143</th>\n",
       "      <td>year|population|country-year|HDI</td>\n",
       "      <td>0.297284</td>\n",
       "      <td>0.301381</td>\n",
       "    </tr>\n",
       "    <tr>\n",
       "      <th>30</th>\n",
       "      <td>population|country-year</td>\n",
       "      <td>0.297509</td>\n",
       "      <td>0.302227</td>\n",
       "    </tr>\n",
       "    <tr>\n",
       "      <th>66</th>\n",
       "      <td>year|population|country-year</td>\n",
       "      <td>0.297509</td>\n",
       "      <td>0.302227</td>\n",
       "    </tr>\n",
       "    <tr>\n",
       "      <th>178</th>\n",
       "      <td>country|year|population|country-year|HDI</td>\n",
       "      <td>0.297676</td>\n",
       "      <td>0.302831</td>\n",
       "    </tr>\n",
       "  </tbody>\n",
       "</table>\n",
       "</div>"
      ],
      "text/plain": [
       "                                 columns_name  train_MAE   val_MAE\n",
       "18                          year|country-year   0.281514  0.226534\n",
       "39                  country|year|country-year   0.281684  0.226631\n",
       "69                      year|country-year|HDI   0.281889  0.226931\n",
       "13                                country|HDI   0.288614  0.213088\n",
       "0                                     country   0.290333  0.214861\n",
       "54                   country|country-year|HDI   0.291547  0.237142\n",
       "143          year|population|country-year|HDI   0.297284  0.301381\n",
       "30                    population|country-year   0.297509  0.302227\n",
       "66               year|population|country-year   0.297509  0.302227\n",
       "178  country|year|population|country-year|HDI   0.297676  0.302831"
      ]
     },
     "execution_count": 210,
     "metadata": {},
     "output_type": "execute_result"
    }
   ],
   "source": [
    "df_column_option = get_column_comb_rating(df_std, 'suicides_no')\n",
    "df_column_option.sort_values(by=['train_MAE', 'val_MAE']).head(10)"
   ]
  },
  {
   "cell_type": "code",
   "execution_count": null,
   "metadata": {
    "pycharm": {
     "name": "#%%\n"
    }
   },
   "outputs": [],
   "source": [
    "col_combination = 'year|country-year'.split('|')\n",
    "col_combination"
   ]
  },
  {
   "cell_type": "code",
   "execution_count": null,
   "metadata": {
    "pycharm": {
     "name": "#%%\n"
    }
   },
   "outputs": [],
   "source": [
    "model, OH_encoder, MAE = get_model(df_std, col_combination, 'suicides_no', mae_func_std)\n",
    "print(f'Train MAE: {MAE[\"train\"]}, Val MAE: {MAE[\"valid\"]}')\n",
    "result = get_predictions_df(model, col_combination, OH_encoder, req_df=df_std.sample(10))\n",
    "\n",
    "for column in ['population', 'preds', 'suicides_no']:\n",
    "    s_norm = s_norm_data['suicides_no'] if column == 'preds' else s_norm_data[column]\n",
    "    result.loc[:, column] = round(restore_norm_by_std(result[column], s_norm))\n",
    "result.head(10)"
   ]
  },
  {
   "cell_type": "markdown",
   "metadata": {},
   "source": [
    "Результаты +- такие же, что и без нормировки.\n",
    "_____________\n",
    "Вообщем, вариант с нормализацией значений нат. логарифмом оказался самым сильным."
   ]
  },
  {
   "cell_type": "code",
   "execution_count": null,
   "metadata": {},
   "outputs": [],
   "source": []
  }
 ],
 "metadata": {
  "kernelspec": {
   "display_name": "Python 3 (ipykernel)",
   "language": "python",
   "name": "python3"
  },
  "language_info": {
   "codemirror_mode": {
    "name": "ipython",
    "version": 3
   },
   "file_extension": ".py",
   "mimetype": "text/x-python",
   "name": "python",
   "nbconvert_exporter": "python",
   "pygments_lexer": "ipython3",
   "version": "3.9.12"
  }
 },
 "nbformat": 4,
 "nbformat_minor": 4
}
